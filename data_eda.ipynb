{
 "cells": [
  {
   "cell_type": "code",
   "execution_count": 11,
   "id": "initial_id",
   "metadata": {
    "collapsed": true,
    "ExecuteTime": {
     "end_time": "2024-02-09T14:59:34.489361600Z",
     "start_time": "2024-02-09T14:59:34.468415600Z"
    }
   },
   "outputs": [],
   "source": [
    "import pandas as pd\n",
    "import polars as pl\n",
    "import numpy as np\n",
    "from sklearn.model_selection import train_test_split\n",
    "from sklearn.metrics import roc_auc_score\n",
    "\n",
    "ROOT_DIR = './home-credit-credit-risk-model-stability/'"
   ]
  },
  {
   "cell_type": "markdown",
   "source": [
    "# Utils to format the tables"
   ],
   "metadata": {
    "collapsed": false
   }
  },
  {
   "cell_type": "code",
   "execution_count": 6,
   "outputs": [],
   "source": [
    "def set_table_dtypes(df):\n",
    "    # implement here all desired dtypes for tables\n",
    "    # the following is just an example\n",
    "    for col in df.columns:\n",
    "        # last letter of column name will help you determine the type\n",
    "        if col[-1] in (\"P\", \"A\"):\n",
    "            df = df.with_columns(pl.col(col).cast(pl.Float64).alias(col))\n",
    "\n",
    "    return df\n",
    "\n",
    "def convert_strings(df):\n",
    "    for col in df.columns:\n",
    "        if df[col].dtype.name in ['object', 'string']:\n",
    "            df[col] = df[col].astype(\"string\").astype('category')\n",
    "            current_categories = df[col].cat.categories\n",
    "            new_categories = current_categories.to_list() + [\"Unknown\"]\n",
    "            new_dtype = pd.CategoricalDtype(categories=new_categories, ordered=True)\n",
    "            df[col] = df[col].astype(new_dtype)\n",
    "    return df"
   ],
   "metadata": {
    "collapsed": false
   }
  },
  {
   "cell_type": "markdown",
   "source": [
    "# Train data concat by depth"
   ],
   "metadata": {
    "collapsed": false
   }
  },
  {
   "cell_type": "code",
   "execution_count": 8,
   "outputs": [],
   "source": [
    "train_base_table_depth0 = pl.read_csv(ROOT_DIR + \"csv_files/train/train_base.csv\")"
   ],
   "metadata": {
    "collapsed": false,
    "ExecuteTime": {
     "end_time": "2024-02-09T14:54:37.598790100Z",
     "start_time": "2024-02-09T14:54:34.188905900Z"
    }
   }
  },
  {
   "cell_type": "code",
   "execution_count": 10,
   "outputs": [
    {
     "name": "stdout",
     "output_type": "stream",
     "text": [
      "6525979\n",
      "6525979\n"
     ]
    }
   ],
   "source": [
    "train_appl_prev_depth1 = pl.concat(\n",
    "    [\n",
    "        pl.read_csv(ROOT_DIR + \"csv_files/train/train_applprev_1_0.csv\").pipe(set_table_dtypes),\n",
    "        pl.read_csv(ROOT_DIR + \"csv_files/train/train_applprev_1_1.csv\").pipe(set_table_dtypes),\n",
    "    ],\n",
    "    how=\"vertical_relaxed\",\n",
    ")\n",
    "\n",
    "train_appl_prev_depth2 = pl.read_csv(ROOT_DIR + \"csv_files/train/train_applprev_2.csv\").pipe(set_table_dtypes),"
   ],
   "metadata": {
    "collapsed": false,
    "ExecuteTime": {
     "end_time": "2024-02-09T14:55:04.699353700Z",
     "start_time": "2024-02-09T14:54:57.360970500Z"
    }
   }
  },
  {
   "cell_type": "code",
   "execution_count": null,
   "outputs": [],
   "source": [
    "train_credit_bureau_depth1 = pl.concat(\n",
    "    [\n",
    "        pl.read_csv(ROOT_DIR + \"csv_files/train/train_credit_bureau_a_1_0.csv\").pipe(set_table_dtypes),\n",
    "        pl.read_csv(ROOT_DIR + \"csv_files/train/train_credit_bureau_a_1_1.csv\").pipe(set_table_dtypes),\n",
    "        pl.read_csv(ROOT_DIR + \"csv_files/train/train_credit_bureau_a_1_2.csv\").pipe(set_table_dtypes),\n",
    "        pl.read_csv(ROOT_DIR + \"csv_files/train/train_credit_bureau_a_1_3.csv\").pipe(set_table_dtypes)\n",
    "    ],\n",
    "    how=\"vertical_relaxed\",\n",
    ")"
   ],
   "metadata": {
    "collapsed": false
   }
  },
  {
   "cell_type": "code",
   "execution_count": null,
   "outputs": [],
   "source": [
    "train_credit_bureau_depth2 = pl.concat(\n",
    "    [\n",
    "        pl.read_csv(ROOT_DIR + \"csv_files/train/train_credit_bureau_a_2_0.csv\").pipe(set_table_dtypes),\n",
    "        pl.read_csv(ROOT_DIR + \"csv_files/train/train_credit_bureau_a_2_1.csv\").pipe(set_table_dtypes),\n",
    "        pl.read_csv(ROOT_DIR + \"csv_files/train/train_credit_bureau_a_2_2.csv\").pipe(set_table_dtypes),\n",
    "        pl.read_csv(ROOT_DIR + \"csv_files/train/train_credit_bureau_a_2_3.csv\").pipe(set_table_dtypes),\n",
    "        pl.read_csv(ROOT_DIR + \"csv_files/train/train_credit_bureau_a_2_4.csv\").pipe(set_table_dtypes),\n",
    "        pl.read_csv(ROOT_DIR + \"csv_files/train/train_credit_bureau_a_2_5.csv\").pipe(set_table_dtypes),\n",
    "        pl.read_csv(ROOT_DIR + \"csv_files/train/train_credit_bureau_a_2_6.csv\").pipe(set_table_dtypes),\n",
    "        pl.read_csv(ROOT_DIR + \"csv_files/train/train_credit_bureau_a_2_7.csv\").pipe(set_table_dtypes),\n",
    "        pl.read_csv(ROOT_DIR + \"csv_files/train/train_credit_bureau_a_2_8.csv\").pipe(set_table_dtypes),\n",
    "        pl.read_csv(ROOT_DIR + \"csv_files/train/train_credit_bureau_a_2_9.csv\").pipe(set_table_dtypes),\n",
    "        pl.read_csv(ROOT_DIR + \"csv_files/train/train_credit_bureau_a_2_10.csv\").pipe(set_table_dtypes),\n",
    "    ],\n",
    "    how=\"vertical_relaxed\",\n",
    ")"
   ],
   "metadata": {
    "collapsed": false
   }
  },
  {
   "cell_type": "code",
   "execution_count": null,
   "outputs": [],
   "source": [
    "train_credit_bureau_b_depth1 = pl.read_csv(ROOT_DIR + \"csv_files/train/train_credit_bureau_b_1.csv\").pipe(set_table_dtypes)\n",
    "train_credit_bureau_b_depth2 = pl.read_csv(ROOT_DIR + \"csv_files/train/train_credit_bureau_b_2.csv\").pipe(set_table_dtypes)"
   ],
   "metadata": {
    "collapsed": false
   }
  },
  {
   "cell_type": "code",
   "execution_count": null,
   "outputs": [],
   "source": [
    "train_debit_card_depth1 = pl.read_csv(ROOT_DIR + \"csv_files/train/train_debitcard_1.csv\").pipe(set_table_dtypes)\n",
    "train_deposit_depth1 = pl.read_csv(ROOT_DIR + \"csv_files/train/train_deposit_1.csv\").pipe(set_table_dtypes)\n",
    "train_other_depth1 = pl.read_csv(ROOT_DIR + \"csv_files/train/train_other_1.csv\").pipe(set_table_dtypes)\n",
    "\n",
    "train_person_depth1 = pl.read_csv(ROOT_DIR + \"csv_files/train/train_person_1.csv\").pipe(set_table_dtypes)\n",
    "train_person_depth2 = pl.read_csv(ROOT_DIR + \"csv_files/train/train_person_2.csv\").pipe(set_table_dtypes)"
   ],
   "metadata": {
    "collapsed": false
   }
  },
  {
   "cell_type": "code",
   "execution_count": null,
   "outputs": [],
   "source": [
    "train_static_depth0 = pl.concat(\n",
    "    [\n",
    "        pl.read_csv(ROOT_DIR + \"csv_files/train/train_static_0_0.csv\").pipe(set_table_dtypes),\n",
    "        pl.read_csv(ROOT_DIR + \"csv_files/train/train_static_0_1.csv\").pipe(set_table_dtypes),\n",
    "    ],\n",
    "    how=\"vertical_relaxed\",\n",
    ")\n",
    "train_static_cb_depth0 = pl.read_csv(ROOT_DIR + \"csv_files/train/train_static_cb_0.csv\").pipe(set_table_dtypes)"
   ],
   "metadata": {
    "collapsed": false
   }
  },
  {
   "cell_type": "code",
   "execution_count": null,
   "outputs": [],
   "source": [
    "train_tax_registry_a_depth1 = pl.read_csv(ROOT_DIR + \"csv_files/train/train_tax_registry_a_1.csv\").pipe(set_table_dtypes),\n",
    "train_tax_registry_b_depth1 = pl.read_csv(ROOT_DIR + \"csv_files/train/train_tax_registry_b_1.csv\").pipe(set_table_dtypes),\n",
    "train_tax_registry_c_depth1 = pl.read_csv(ROOT_DIR + \"csv_files/train/train_tax_registry_c_1.csv\").pipe(set_table_dtypes),"
   ],
   "metadata": {
    "collapsed": false
   }
  },
  {
   "cell_type": "code",
   "execution_count": null,
   "outputs": [],
   "source": [
    "train_base_table_depth0\n",
    "train_appl_prev_depth1\n",
    "train_appl_prev_depth2\n",
    "\n",
    "train_credit_bureau_depth1\n",
    "train_credit_bureau_depth2\n",
    "train_credit_bureau_b_depth1\n",
    "train_credit_bureau_b_depth2\n",
    "\n",
    "train_debit_card_depth1\n",
    "train_deposit_depth1\n",
    "train_other_depth1\n",
    "train_person_depth1\n",
    "train_person_depth2\n",
    "\n",
    "train_static_depth0\n",
    "train_static_cb_depth0\n",
    "\n",
    "train_tax_registry_a_depth1\n",
    "train_tax_registry_b_depth1\n",
    "train_tax_registry_c_depth1"
   ],
   "metadata": {
    "collapsed": false
   }
  },
  {
   "cell_type": "markdown",
   "source": [
    "# Test data concat by depth"
   ],
   "metadata": {
    "collapsed": false
   }
  },
  {
   "cell_type": "code",
   "execution_count": null,
   "outputs": [],
   "source": [
    "test_base_table_depth0 = pl.read_csv(ROOT_DIR + \"csv_files/test/test_base.csv\")"
   ],
   "metadata": {
    "collapsed": false
   }
  },
  {
   "cell_type": "code",
   "execution_count": null,
   "outputs": [],
   "source": [
    "test_appl_prev_depth1 = pl.concat(\n",
    "    [\n",
    "        pl.read_csv(ROOT_DIR + \"csv_files/test/test_applprev_1_0.csv\").pipe(set_table_dtypes),\n",
    "        pl.read_csv(ROOT_DIR + \"csv_files/test/test_applprev_1_1.csv\").pipe(set_table_dtypes),\n",
    "        pl.read_csv(ROOT_DIR + \"csv_files/test/test_applprev_1_2.csv\").pipe(set_table_dtypes),\n",
    "    ],\n",
    "    how=\"vertical_relaxed\",\n",
    ")\n",
    "\n",
    "test_appl_prev_depth2 = pl.read_csv(ROOT_DIR + \"csv_files/test/test_applprev_2.csv\").pipe(set_table_dtypes),"
   ],
   "metadata": {
    "collapsed": false
   }
  },
  {
   "cell_type": "code",
   "execution_count": null,
   "outputs": [],
   "source": [
    "test_credit_bureau_a_depth1 = pl.concat(\n",
    "    [\n",
    "        pl.read_csv(ROOT_DIR + \"csv_files/test/test_credit_bureau_a_1_0.csv\").pipe(set_table_dtypes),\n",
    "        pl.read_csv(ROOT_DIR + \"csv_files/test/test_credit_bureau_a_1_1.csv\").pipe(set_table_dtypes),\n",
    "        pl.read_csv(ROOT_DIR + \"csv_files/test/test_credit_bureau_a_1_2.csv\").pipe(set_table_dtypes),\n",
    "        pl.read_csv(ROOT_DIR + \"csv_files/test/test_credit_bureau_a_1_3.csv\").pipe(set_table_dtypes),\n",
    "        pl.read_csv(ROOT_DIR + \"csv_files/test/test_credit_bureau_a_1_4.csv\").pipe(set_table_dtypes)\n",
    "    ],\n",
    "    how=\"vertical_relaxed\",\n",
    ")"
   ],
   "metadata": {
    "collapsed": false
   }
  },
  {
   "cell_type": "code",
   "execution_count": null,
   "outputs": [],
   "source": [
    "test_credit_bureau_a_depth2 = pl.concat(\n",
    "    [\n",
    "        pl.read_csv(ROOT_DIR + \"csv_files/test/test_credit_bureau_a_2_0.csv\").pipe(set_table_dtypes),\n",
    "        pl.read_csv(ROOT_DIR + \"csv_files/test/test_credit_bureau_a_2_1.csv\").pipe(set_table_dtypes),\n",
    "        pl.read_csv(ROOT_DIR + \"csv_files/test/test_credit_bureau_a_2_2.csv\").pipe(set_table_dtypes),\n",
    "        pl.read_csv(ROOT_DIR + \"csv_files/test/test_credit_bureau_a_2_3.csv\").pipe(set_table_dtypes),\n",
    "        pl.read_csv(ROOT_DIR + \"csv_files/test/test_credit_bureau_a_2_4.csv\").pipe(set_table_dtypes),\n",
    "        pl.read_csv(ROOT_DIR + \"csv_files/test/test_credit_bureau_a_2_5.csv\").pipe(set_table_dtypes),\n",
    "        pl.read_csv(ROOT_DIR + \"csv_files/test/test_credit_bureau_a_2_6.csv\").pipe(set_table_dtypes),\n",
    "        pl.read_csv(ROOT_DIR + \"csv_files/test/test_credit_bureau_a_2_7.csv\").pipe(set_table_dtypes),\n",
    "        pl.read_csv(ROOT_DIR + \"csv_files/test/test_credit_bureau_a_2_8.csv\").pipe(set_table_dtypes),\n",
    "        pl.read_csv(ROOT_DIR + \"csv_files/test/test_credit_bureau_a_2_9.csv\").pipe(set_table_dtypes),\n",
    "        pl.read_csv(ROOT_DIR + \"csv_files/test/test_credit_bureau_a_2_10.csv\").pipe(set_table_dtypes),\n",
    "        pl.read_csv(ROOT_DIR + \"csv_files/test/test_credit_bureau_a_2_11.csv\").pipe(set_table_dtypes),\n",
    "    ],\n",
    "    how=\"vertical_relaxed\",\n",
    ")"
   ],
   "metadata": {
    "collapsed": false
   }
  },
  {
   "cell_type": "code",
   "execution_count": null,
   "outputs": [],
   "source": [
    "test_credit_bureau_b_depth1 = pl.read_csv(ROOT_DIR + \"csv_files/test/test_credit_bureau_b_1.csv\").pipe(set_table_dtypes)\n",
    "test_credit_bureau_b_depth2 = pl.read_csv(ROOT_DIR + \"csv_files/test/test_credit_bureau_b_2.csv\").pipe(set_table_dtypes)"
   ],
   "metadata": {
    "collapsed": false
   }
  },
  {
   "cell_type": "code",
   "execution_count": null,
   "outputs": [],
   "source": [
    "test_debit_card_depth1 = pl.read_csv(ROOT_DIR + \"csv_files/test/test_debitcard_1.csv\").pipe(set_table_dtypes)\n",
    "test_deposit_depth1 = pl.read_csv(ROOT_DIR + \"csv_files/test/test_deposit_1.csv\").pipe(set_table_dtypes)\n",
    "test_other_depth1 = pl.read_csv(ROOT_DIR + \"csv_files/test/test_other_1.csv\").pipe(set_table_dtypes)\n",
    "\n",
    "test_person_depth1 = pl.read_csv(ROOT_DIR + \"csv_files/test/test_person_1.csv\").pipe(set_table_dtypes)\n",
    "test_person_depth2 = pl.read_csv(ROOT_DIR + \"csv_files/test/test_person_2.csv\").pipe(set_table_dtypes)"
   ],
   "metadata": {
    "collapsed": false
   }
  },
  {
   "cell_type": "code",
   "execution_count": null,
   "outputs": [],
   "source": [
    "test_static_depth0 = pl.concat(\n",
    "    [\n",
    "        pl.read_csv(ROOT_DIR + \"csv_files/test/test_static_0_0.csv\").pipe(set_table_dtypes),\n",
    "        pl.read_csv(ROOT_DIR + \"csv_files/test/test_static_0_1.csv\").pipe(set_table_dtypes),\n",
    "        pl.read_csv(ROOT_DIR + \"csv_files/test/test_static_0_2.csv\").pipe(set_table_dtypes),\n",
    "    ],\n",
    "    how=\"vertical_relaxed\",\n",
    ")\n",
    "\n",
    "test_static_cb_depth0 = pl.read_csv(ROOT_DIR + \"csv_files/test/test_static_cb_0.csv\").pipe(set_table_dtypes)"
   ],
   "metadata": {
    "collapsed": false
   }
  },
  {
   "cell_type": "code",
   "execution_count": null,
   "outputs": [],
   "source": [
    "test_tax_registry_a_depth1 = pl.read_csv(ROOT_DIR + \"csv_files/test/test_tax_registry_a_1.csv\").pipe(set_table_dtypes),\n",
    "test_tax_registry_b_depth1 = pl.read_csv(ROOT_DIR + \"csv_files/test/test_tax_registry_b_1.csv\").pipe(set_table_dtypes),\n",
    "test_tax_registry_c_depth1 = pl.read_csv(ROOT_DIR + \"csv_files/test/test_tax_registry_c_1.csv\").pipe(set_table_dtypes),"
   ],
   "metadata": {
    "collapsed": false
   }
  },
  {
   "cell_type": "code",
   "execution_count": null,
   "outputs": [],
   "source": [
    "test_base_table_depth0\n",
    "test_appl_prev_depth1\n",
    "test_appl_prev_depth2\n",
    "\n",
    "test_credit_bureau_a_depth1\n",
    "test_credit_bureau_a_depth2\n",
    "test_credit_bureau_b_depth1\n",
    "test_credit_bureau_b_depth2\n",
    "\n",
    "test_debit_card_depth1\n",
    "test_deposit_depth1\n",
    "test_other_depth1\n",
    "test_person_depth1\n",
    "test_person_depth2\n",
    "\n",
    "test_static_depth0\n",
    "test_static_cb_depth0\n",
    "\n",
    "test_tax_registry_a_depth1\n",
    "test_tax_registry_b_depth1\n",
    "test_tax_registry_c_depth1"
   ],
   "metadata": {
    "collapsed": false
   }
  }
 ],
 "metadata": {
  "kernelspec": {
   "display_name": "Python 3",
   "language": "python",
   "name": "python3"
  },
  "language_info": {
   "codemirror_mode": {
    "name": "ipython",
    "version": 3
   },
   "file_extension": ".py",
   "mimetype": "text/x-python",
   "name": "python",
   "nbconvert_exporter": "python",
   "pygments_lexer": "ipython3",
   "version": "3.10.11"
  }
 },
 "nbformat": 4,
 "nbformat_minor": 5
}
