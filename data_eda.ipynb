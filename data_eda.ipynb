{
 "cells": [
  {
   "cell_type": "code",
   "execution_count": 2,
   "id": "initial_id",
   "metadata": {
    "collapsed": true,
    "ExecuteTime": {
     "end_time": "2024-02-19T19:20:38.194930Z",
     "start_time": "2024-02-19T19:20:15.389775Z"
    }
   },
   "outputs": [
    {
     "name": "stderr",
     "output_type": "stream",
     "text": [
      "/var/folders/0t/j2gpn6f15654m27vbd8g7v1w0000gs/T/ipykernel_41455/2020819366.py:7: DtypeWarning: Columns (27) have mixed types. Specify dtype option on import or set low_memory=False.\n",
      "  train_df_1 = pd.read_csv(ROOT_DIR + TRAIN_CSV)\n"
     ]
    }
   ],
   "source": [
    "import pandas as pd\n",
    "import numpy as np\n",
    "from scipy.stats import mode\n",
    "ROOT_DIR = './home-credit-credit-risk-model-stability/csv_files/train/'\n",
    "TRAIN_CSV = 'train_applprev_1_0.csv'\n",
    "\n",
    "train_df_1 = pd.read_csv(ROOT_DIR + TRAIN_CSV)"
   ]
  },
  {
   "cell_type": "code",
   "execution_count": 3,
   "id": "1a032aaa",
   "metadata": {
    "ExecuteTime": {
     "end_time": "2024-02-19T19:20:51.583743Z",
     "start_time": "2024-02-19T19:20:38.197993Z"
    }
   },
   "outputs": [
    {
     "name": "stderr",
     "output_type": "stream",
     "text": [
      "/var/folders/0t/j2gpn6f15654m27vbd8g7v1w0000gs/T/ipykernel_41455/1470883623.py:2: DtypeWarning: Columns (27) have mixed types. Specify dtype option on import or set low_memory=False.\n",
      "  train_df_2 = pd.read_csv(ROOT_DIR + TRAIN_CSV_2)\n"
     ]
    }
   ],
   "source": [
    "TRAIN_CSV_2 = 'train_applprev_1_1.csv'\n",
    "train_df_2 = pd.read_csv(ROOT_DIR + TRAIN_CSV_2)"
   ]
  },
  {
   "cell_type": "code",
   "execution_count": 4,
   "id": "2b748a8a",
   "metadata": {
    "ExecuteTime": {
     "end_time": "2024-02-19T19:20:54.574687Z",
     "start_time": "2024-02-19T19:20:51.588703Z"
    }
   },
   "outputs": [
    {
     "name": "stdout",
     "output_type": "stream",
     "text": [
      "6525979\n"
     ]
    }
   ],
   "source": [
    "train_df = pd.concat([train_df_1, train_df_2], axis=0)\n",
    "\n",
    "# Reset index if needed\n",
    "train_df.reset_index(drop=True, inplace=True)\n",
    "\n",
    "# Output the combined DataFrame\n",
    "print(len(train_df))"
   ]
  },
  {
   "cell_type": "code",
   "execution_count": 5,
   "outputs": [],
   "source": [
    "import pandas as pd\n",
    "\n",
    "# Reading the parquet file into a pandas DataFrame\n",
    "df_train_base = pd.read_parquet('home-credit-credit-risk-model-stability/parquet_files/train/train_base.parquet')\n",
    "\n",
    "# Converting 'date_decision' column to datetime\n",
    "df_train_base['date_decision'] = pd.to_datetime(df_train_base['date_decision'])\n"
   ],
   "metadata": {
    "collapsed": false,
    "ExecuteTime": {
     "end_time": "2024-02-19T19:20:54.962262Z",
     "start_time": "2024-02-19T19:20:54.569653Z"
    }
   },
   "id": "631ec9986bb3ca8d"
  },
  {
   "cell_type": "code",
   "execution_count": 5,
   "id": "122d06fee95a9c41",
   "metadata": {
    "collapsed": false,
    "ExecuteTime": {
     "end_time": "2024-02-11T19:52:45.625752Z",
     "start_time": "2024-02-11T19:52:45.615841Z"
    }
   },
   "outputs": [],
   "source": [
    "def inspect_columns(df):\n",
    "    \n",
    "    result = pd.DataFrame({\n",
    "        'unique': df.nunique() == len(df),\n",
    "        'cardinality': df.nunique(),\n",
    "        'with_null': df.isna().any(),\n",
    "        'null_pct': round((df.isnull().sum() / len(df)) * 100, 2),\n",
    "        '1st_row': df.iloc[0],\n",
    "        'random_row': df.iloc[np.random.randint(low=0, high=len(df))],\n",
    "        'last_row': df.iloc[-1],\n",
    "        'dtype': df.dtypes\n",
    "    })\n",
    "    return result"
   ]
  },
  {
   "cell_type": "code",
   "execution_count": 6,
   "outputs": [],
   "source": [
    "import numpy as np\n",
    "\n",
    "def inspect_continuous_columns(df):\n",
    "    continuous_columns = df.columns[df.nunique() > 100]  # Filter columns with more than 100 unique values\n",
    "    result = pd.DataFrame(columns=['mean', 'median', 'std', 'min', 'max', 'pct. 25%', 'pct. 75%'])\n",
    "    \n",
    "    for col in continuous_columns:\n",
    "        # Convert non-numeric values to NaN and then to numeric\n",
    "        numeric_values = pd.to_numeric(df[col], errors='coerce')\n",
    "        numeric_values = numeric_values.dropna()  # Drop NaN values\n",
    "        \n",
    "        if not numeric_values.empty:\n",
    "            stats = {\n",
    "                'mean': numeric_values.mean(),\n",
    "                'median': numeric_values.median(),\n",
    "                'std': numeric_values.std(),\n",
    "                'min': numeric_values.min(),\n",
    "                'max': numeric_values.max(),\n",
    "                'pct. 25%': numeric_values.quantile(0.25),\n",
    "                'pct. 75%': numeric_values.quantile(0.75)\n",
    "            }\n",
    "            result.loc[col] = stats\n",
    "\n",
    "    return result\n"
   ],
   "metadata": {
    "collapsed": false,
    "ExecuteTime": {
     "end_time": "2024-02-11T19:52:45.723561Z",
     "start_time": "2024-02-11T19:52:45.626176Z"
    }
   },
   "id": "2f12826d068d754"
  },
  {
   "cell_type": "code",
   "execution_count": 217,
   "outputs": [],
   "source": [
    "continuous_stats = inspect_continuous_columns(train_df)"
   ],
   "metadata": {
    "collapsed": false,
    "ExecuteTime": {
     "end_time": "2024-02-11T19:33:50.408223Z",
     "start_time": "2024-02-11T19:32:53.608718Z"
    }
   },
   "id": "33145996ae8cfaec"
  },
  {
   "cell_type": "code",
   "execution_count": 244,
   "outputs": [],
   "source": [
    "def custom_format(x):\n",
    "    # print(x)\n",
    "    if x % 1 == 0:\n",
    "        return int(x)\n",
    "    elif x == 0:\n",
    "        return \"0\"\n",
    "    else:\n",
    "        return '%.2f' % x\n",
    "\n",
    "# Set display options\n",
    "pd.set_option('display.float_format', custom_format)"
   ],
   "metadata": {
    "collapsed": false,
    "ExecuteTime": {
     "end_time": "2024-02-11T19:39:17.061010Z",
     "start_time": "2024-02-11T19:39:17.057826Z"
    }
   },
   "id": "907ce739cb59be6f"
  },
  {
   "cell_type": "code",
   "execution_count": 246,
   "outputs": [
    {
     "data": {
      "text/plain": "                                   mean    median         std        min  \\\ncase_id                      1431940.94   1555975   787191.29          2   \nactualdpd_943P                     0.01         0        4.64          0   \nannuity_853A                    3449.52      2787     2884.08          0   \nbyoccupationinc_3656910L       20013.92      8000    30775.70          0   \ncredacc_actualbalance_314A     18269.91   6103.17    27025.64 -134008.42   \ncredacc_credlmt_575A            3397.95         0    15100.40          0   \ncredacc_maxhisbal_375A         -2619.55         0    28826.24 -290265.10   \ncredacc_minhisbal_90A          -6135.21         0    17500.89 -350532.60   \ncredacc_transactions_402L          0.55         0        3.09          0   \ncredamount_590A                40409.36     28000    41139.42          0   \ncurrdebt_94A                    5257.13         0    19747.26          0   \ndownpmt_134A                     430.00         0     2664.32          0   \nmainoccupationinc_437A         41237.82     36000    31897.72          0   \nmaxdpdtolerance_577P              14.66         0      144.56          0   \noutstandingdebt_522A            7034.66         0    29838.06          0   \nrevolvingaccount_394A      750542330.43 760511600 52725506.41  540342340   \n\n                                  max  pct. 25%  pct. 75%  \ncase_id                       2703454 958657.50   1853312  \nactualdpd_943P                   4206         0         0  \nannuity_853A                105130.20      1711   4482.60  \nbyoccupationinc_3656910L       200000         1     30000  \ncredacc_actualbalance_314A    2540730         0     27514  \ncredacc_credlmt_575A           400000         0         0  \ncredacc_maxhisbal_375A     7988198.50         0      0.19  \ncredacc_minhisbal_90A          239000         0         0  \ncredacc_transactions_402L         155         0         0  \ncredamount_590A               1000000     14000     52792  \ncurrdebt_94A                507429.72         0         0  \ndownpmt_134A                   420400         0         0  \nmainoccupationinc_437A         199600     18800     56000  \nmaxdpdtolerance_577P             4362         0         1  \noutstandingdebt_522A       1210629.10         0         0  \nrevolvingaccount_394A       800608700 742430415 780473000  ",
      "text/html": "<div>\n<style scoped>\n    .dataframe tbody tr th:only-of-type {\n        vertical-align: middle;\n    }\n\n    .dataframe tbody tr th {\n        vertical-align: top;\n    }\n\n    .dataframe thead th {\n        text-align: right;\n    }\n</style>\n<table border=\"1\" class=\"dataframe\">\n  <thead>\n    <tr style=\"text-align: right;\">\n      <th></th>\n      <th>mean</th>\n      <th>median</th>\n      <th>std</th>\n      <th>min</th>\n      <th>max</th>\n      <th>pct. 25%</th>\n      <th>pct. 75%</th>\n    </tr>\n  </thead>\n  <tbody>\n    <tr>\n      <th>case_id</th>\n      <td>1431940.94</td>\n      <td>1555975</td>\n      <td>787191.29</td>\n      <td>2</td>\n      <td>2703454</td>\n      <td>958657.50</td>\n      <td>1853312</td>\n    </tr>\n    <tr>\n      <th>actualdpd_943P</th>\n      <td>0.01</td>\n      <td>0</td>\n      <td>4.64</td>\n      <td>0</td>\n      <td>4206</td>\n      <td>0</td>\n      <td>0</td>\n    </tr>\n    <tr>\n      <th>annuity_853A</th>\n      <td>3449.52</td>\n      <td>2787</td>\n      <td>2884.08</td>\n      <td>0</td>\n      <td>105130.20</td>\n      <td>1711</td>\n      <td>4482.60</td>\n    </tr>\n    <tr>\n      <th>byoccupationinc_3656910L</th>\n      <td>20013.92</td>\n      <td>8000</td>\n      <td>30775.70</td>\n      <td>0</td>\n      <td>200000</td>\n      <td>1</td>\n      <td>30000</td>\n    </tr>\n    <tr>\n      <th>credacc_actualbalance_314A</th>\n      <td>18269.91</td>\n      <td>6103.17</td>\n      <td>27025.64</td>\n      <td>-134008.42</td>\n      <td>2540730</td>\n      <td>0</td>\n      <td>27514</td>\n    </tr>\n    <tr>\n      <th>credacc_credlmt_575A</th>\n      <td>3397.95</td>\n      <td>0</td>\n      <td>15100.40</td>\n      <td>0</td>\n      <td>400000</td>\n      <td>0</td>\n      <td>0</td>\n    </tr>\n    <tr>\n      <th>credacc_maxhisbal_375A</th>\n      <td>-2619.55</td>\n      <td>0</td>\n      <td>28826.24</td>\n      <td>-290265.10</td>\n      <td>7988198.50</td>\n      <td>0</td>\n      <td>0.19</td>\n    </tr>\n    <tr>\n      <th>credacc_minhisbal_90A</th>\n      <td>-6135.21</td>\n      <td>0</td>\n      <td>17500.89</td>\n      <td>-350532.60</td>\n      <td>239000</td>\n      <td>0</td>\n      <td>0</td>\n    </tr>\n    <tr>\n      <th>credacc_transactions_402L</th>\n      <td>0.55</td>\n      <td>0</td>\n      <td>3.09</td>\n      <td>0</td>\n      <td>155</td>\n      <td>0</td>\n      <td>0</td>\n    </tr>\n    <tr>\n      <th>credamount_590A</th>\n      <td>40409.36</td>\n      <td>28000</td>\n      <td>41139.42</td>\n      <td>0</td>\n      <td>1000000</td>\n      <td>14000</td>\n      <td>52792</td>\n    </tr>\n    <tr>\n      <th>currdebt_94A</th>\n      <td>5257.13</td>\n      <td>0</td>\n      <td>19747.26</td>\n      <td>0</td>\n      <td>507429.72</td>\n      <td>0</td>\n      <td>0</td>\n    </tr>\n    <tr>\n      <th>downpmt_134A</th>\n      <td>430.00</td>\n      <td>0</td>\n      <td>2664.32</td>\n      <td>0</td>\n      <td>420400</td>\n      <td>0</td>\n      <td>0</td>\n    </tr>\n    <tr>\n      <th>mainoccupationinc_437A</th>\n      <td>41237.82</td>\n      <td>36000</td>\n      <td>31897.72</td>\n      <td>0</td>\n      <td>199600</td>\n      <td>18800</td>\n      <td>56000</td>\n    </tr>\n    <tr>\n      <th>maxdpdtolerance_577P</th>\n      <td>14.66</td>\n      <td>0</td>\n      <td>144.56</td>\n      <td>0</td>\n      <td>4362</td>\n      <td>0</td>\n      <td>1</td>\n    </tr>\n    <tr>\n      <th>outstandingdebt_522A</th>\n      <td>7034.66</td>\n      <td>0</td>\n      <td>29838.06</td>\n      <td>0</td>\n      <td>1210629.10</td>\n      <td>0</td>\n      <td>0</td>\n    </tr>\n    <tr>\n      <th>revolvingaccount_394A</th>\n      <td>750542330.43</td>\n      <td>760511600</td>\n      <td>52725506.41</td>\n      <td>540342340</td>\n      <td>800608700</td>\n      <td>742430415</td>\n      <td>780473000</td>\n    </tr>\n  </tbody>\n</table>\n</div>"
     },
     "execution_count": 246,
     "metadata": {},
     "output_type": "execute_result"
    }
   ],
   "source": [
    "continuous_stats"
   ],
   "metadata": {
    "collapsed": false,
    "ExecuteTime": {
     "end_time": "2024-02-11T19:41:21.633089Z",
     "start_time": "2024-02-11T19:41:21.624917Z"
    }
   },
   "id": "d49efbaeee5634c0"
  },
  {
   "cell_type": "code",
   "execution_count": 239,
   "outputs": [],
   "source": [
    "med = continuous_stats.loc[\"byoccupationinc_3656910L\"].loc[\"median\"]"
   ],
   "metadata": {
    "collapsed": false,
    "ExecuteTime": {
     "end_time": "2024-02-11T19:37:58.025388Z",
     "start_time": "2024-02-11T19:37:58.020597Z"
    }
   },
   "id": "dbb890476234bcff"
  },
  {
   "cell_type": "code",
   "execution_count": 242,
   "outputs": [
    {
     "name": "stdout",
     "output_type": "stream",
     "text": [
      "0.0000000000\n"
     ]
    }
   ],
   "source": [
    "print(\"{:.10f}\".format(med % 10))"
   ],
   "metadata": {
    "collapsed": false,
    "ExecuteTime": {
     "end_time": "2024-02-11T19:38:49.796499Z",
     "start_time": "2024-02-11T19:38:49.773665Z"
    }
   },
   "id": "2bfb0c0ad98b2809"
  },
  {
   "cell_type": "code",
   "execution_count": 243,
   "outputs": [
    {
     "data": {
      "text/plain": "True"
     },
     "execution_count": 243,
     "metadata": {},
     "output_type": "execute_result"
    }
   ],
   "source": [
    "med % 1 == 0"
   ],
   "metadata": {
    "collapsed": false,
    "ExecuteTime": {
     "end_time": "2024-02-11T19:39:10.245821Z",
     "start_time": "2024-02-11T19:39:10.220923Z"
    }
   },
   "id": "2d5d45cf4b54f11"
  },
  {
   "cell_type": "code",
   "execution_count": 5,
   "id": "bde13462a220f803",
   "metadata": {
    "collapsed": false,
    "ExecuteTime": {
     "end_time": "2024-02-11T16:04:34.369047Z",
     "start_time": "2024-02-11T16:03:57.120001Z"
    }
   },
   "outputs": [],
   "source": [
    "eda_data = inspect_columns(train_df)"
   ]
  },
  {
   "cell_type": "code",
   "execution_count": 6,
   "id": "a1eb2eb9",
   "metadata": {
    "ExecuteTime": {
     "end_time": "2024-02-11T16:04:34.373167Z",
     "start_time": "2024-02-11T16:04:34.366036Z"
    }
   },
   "outputs": [],
   "source": [
    "threshold = 10.0"
   ]
  },
  {
   "cell_type": "code",
   "execution_count": 7,
   "id": "5bc5dd4ba4a73243",
   "metadata": {
    "collapsed": false,
    "ExecuteTime": {
     "end_time": "2024-02-11T16:04:34.463330Z",
     "start_time": "2024-02-11T16:04:34.386550Z"
    }
   },
   "outputs": [
    {
     "data": {
      "text/plain": "                             unique  cardinality  with_null  null_pct  \\\ncase_id                       False      1221522      False      0.00   \nactualdpd_943P                False          189       True      0.04   \nannuity_853A                  False        89297       True      3.84   \napprovaldate_319D             False         5402       True     46.13   \nbyoccupationinc_3656910L      False        29699       True     76.49   \ncancelreason_3545846M         False           76      False      0.00   \nchildnum_21L                  False           20       True     54.54   \ncreationdate_885D             False         5405       True      0.00   \ncredacc_actualbalance_314A    False        93621       True     95.10   \ncredacc_credlmt_575A          False        52331       True      2.97   \ncredacc_maxhisbal_375A        False        77167       True     95.10   \ncredacc_minhisbal_90A         False        75233       True     95.10   \ncredacc_status_367L           False            6       True     95.10   \ncredacc_transactions_402L     False          102       True     95.10   \ncredamount_590A               False       252460       True      3.10   \ncredtype_587L                 False            3       True      3.10   \ncurrdebt_94A                  False       531480       True     34.42   \ndateactivated_425D            False         4256       True     48.14   \ndistrict_544M                 False         1063      False      0.00   \ndownpmt_134A                  False        22975       True      3.10   \ndtlastpmt_581D                False         2554       True     72.79   \ndtlastpmtallstes_3545839D     False         2570       True     61.96   \neducation_1138M               False            6      False      0.00   \nemployedfrom_700D             False        10307       True     59.55   \nfamilystate_726L              False            5       True     36.68   \nfirstnonzeroinstldate_307D    False         5165       True     10.00   \ninittransactioncode_279L      False            3       True      3.10   \nisbidproduct_390L             False            2       True      0.00   \nisdebitcard_527L              False            2       True     92.91   \nmainoccupationinc_437A        False        28717       True      1.56   \nmaxdpdtolerance_577P          False         3643       True     47.44   \nnum_group1                    False           20      False      0.00   \noutstandingdebt_522A          False       384590       True     34.60   \npmtnum_8L                     False           60       True      8.46   \npostype_4733339M              False            9      False      0.00   \nprofession_152M               False        11508      False      0.00   \nrejectreason_755M             False           18      False      0.00   \nrejectreasonclient_4145042M   False           14      False      0.00   \nrevolvingaccount_394A         False        80700       True     95.45   \nstatus_219L                   False           11       True      0.00   \ntenor_203L                    False           60       True      8.46   \n\n                                  1st_row    random_row    last_row    dtype  \ncase_id                                 2       2631445     2703454    int64  \nactualdpd_943P                        0.0           0.0         0.0  float64  \nannuity_853A                        640.2        2983.0      6726.6  float64  \napprovaldate_319D                     NaN           NaN  2019-08-01   object  \nbyoccupationinc_3656910L              NaN           NaN         NaN  float64  \ncancelreason_3545846M            a55475b1   P94_109_143    a55475b1   object  \nchildnum_21L                          0.0           NaN         NaN  float64  \ncreationdate_885D              2013-04-03    2019-04-22  2019-08-01   object  \ncredacc_actualbalance_314A            NaN           NaN         NaN  float64  \ncredacc_credlmt_575A                  0.0           0.0         0.0  float64  \ncredacc_maxhisbal_375A                NaN           NaN         NaN  float64  \ncredacc_minhisbal_90A                 NaN           NaN         NaN  float64  \ncredacc_status_367L                   NaN           NaN         NaN   object  \ncredacc_transactions_402L             NaN           NaN         NaN  float64  \ncredamount_590A                   10000.0       40000.0     60000.0  float64  \ncredtype_587L                         CAL           CAL         CAL   object  \ncurrdebt_94A                          NaN           NaN         0.0  float64  \ndateactivated_425D                    NaN           NaN  2019-08-20   object  \ndistrict_544M                P136_108_173  P123_118_126  P48_127_19   object  \ndownpmt_134A                          0.0           0.0         0.0  float64  \ndtlastpmt_581D                        NaN           NaN  2020-08-02   object  \ndtlastpmtallstes_3545839D             NaN           NaN  2020-08-02   object  \neducation_1138M                P97_36_170      a55475b1  P97_36_170   object  \nemployedfrom_700D              2010-02-15           NaN         NaN   object  \nfamilystate_726L                   SINGLE           NaN     WIDOWED   object  \nfirstnonzeroinstldate_307D     2013-05-04    2019-05-22  2019-09-01   object  \ninittransactioncode_279L             CASH          CASH        CASH   object  \nisbidproduct_390L                   False         False       False   object  \nisdebitcard_527L                      NaN           NaN         NaN   object  \nmainoccupationinc_437A             8200.0       16000.0     60000.0  float64  \nmaxdpdtolerance_577P                  NaN           NaN         0.0  float64  \nnum_group1                              0             0           1    int64  \noutstandingdebt_522A                  NaN           NaN         0.0  float64  \npmtnum_8L                            24.0          18.0        12.0  float64  \npostype_4733339M                 a55475b1      a55475b1  P46_145_78   object  \nprofession_152M                  a55475b1      a55475b1    a55475b1   object  \nrejectreason_755M                a55475b1    P99_56_166    a55475b1   object  \nrejectreasonclient_4145042M      a55475b1   P94_109_143    a55475b1   object  \nrevolvingaccount_394A                 NaN           NaN         NaN  float64  \nstatus_219L                             D             D           K   object  \ntenor_203L                           24.0          18.0        12.0  float64  ",
      "text/html": "<div>\n<style scoped>\n    .dataframe tbody tr th:only-of-type {\n        vertical-align: middle;\n    }\n\n    .dataframe tbody tr th {\n        vertical-align: top;\n    }\n\n    .dataframe thead th {\n        text-align: right;\n    }\n</style>\n<table border=\"1\" class=\"dataframe\">\n  <thead>\n    <tr style=\"text-align: right;\">\n      <th></th>\n      <th>unique</th>\n      <th>cardinality</th>\n      <th>with_null</th>\n      <th>null_pct</th>\n      <th>1st_row</th>\n      <th>random_row</th>\n      <th>last_row</th>\n      <th>dtype</th>\n    </tr>\n  </thead>\n  <tbody>\n    <tr>\n      <th>case_id</th>\n      <td>False</td>\n      <td>1221522</td>\n      <td>False</td>\n      <td>0.00</td>\n      <td>2</td>\n      <td>2631445</td>\n      <td>2703454</td>\n      <td>int64</td>\n    </tr>\n    <tr>\n      <th>actualdpd_943P</th>\n      <td>False</td>\n      <td>189</td>\n      <td>True</td>\n      <td>0.04</td>\n      <td>0.0</td>\n      <td>0.0</td>\n      <td>0.0</td>\n      <td>float64</td>\n    </tr>\n    <tr>\n      <th>annuity_853A</th>\n      <td>False</td>\n      <td>89297</td>\n      <td>True</td>\n      <td>3.84</td>\n      <td>640.2</td>\n      <td>2983.0</td>\n      <td>6726.6</td>\n      <td>float64</td>\n    </tr>\n    <tr>\n      <th>approvaldate_319D</th>\n      <td>False</td>\n      <td>5402</td>\n      <td>True</td>\n      <td>46.13</td>\n      <td>NaN</td>\n      <td>NaN</td>\n      <td>2019-08-01</td>\n      <td>object</td>\n    </tr>\n    <tr>\n      <th>byoccupationinc_3656910L</th>\n      <td>False</td>\n      <td>29699</td>\n      <td>True</td>\n      <td>76.49</td>\n      <td>NaN</td>\n      <td>NaN</td>\n      <td>NaN</td>\n      <td>float64</td>\n    </tr>\n    <tr>\n      <th>cancelreason_3545846M</th>\n      <td>False</td>\n      <td>76</td>\n      <td>False</td>\n      <td>0.00</td>\n      <td>a55475b1</td>\n      <td>P94_109_143</td>\n      <td>a55475b1</td>\n      <td>object</td>\n    </tr>\n    <tr>\n      <th>childnum_21L</th>\n      <td>False</td>\n      <td>20</td>\n      <td>True</td>\n      <td>54.54</td>\n      <td>0.0</td>\n      <td>NaN</td>\n      <td>NaN</td>\n      <td>float64</td>\n    </tr>\n    <tr>\n      <th>creationdate_885D</th>\n      <td>False</td>\n      <td>5405</td>\n      <td>True</td>\n      <td>0.00</td>\n      <td>2013-04-03</td>\n      <td>2019-04-22</td>\n      <td>2019-08-01</td>\n      <td>object</td>\n    </tr>\n    <tr>\n      <th>credacc_actualbalance_314A</th>\n      <td>False</td>\n      <td>93621</td>\n      <td>True</td>\n      <td>95.10</td>\n      <td>NaN</td>\n      <td>NaN</td>\n      <td>NaN</td>\n      <td>float64</td>\n    </tr>\n    <tr>\n      <th>credacc_credlmt_575A</th>\n      <td>False</td>\n      <td>52331</td>\n      <td>True</td>\n      <td>2.97</td>\n      <td>0.0</td>\n      <td>0.0</td>\n      <td>0.0</td>\n      <td>float64</td>\n    </tr>\n    <tr>\n      <th>credacc_maxhisbal_375A</th>\n      <td>False</td>\n      <td>77167</td>\n      <td>True</td>\n      <td>95.10</td>\n      <td>NaN</td>\n      <td>NaN</td>\n      <td>NaN</td>\n      <td>float64</td>\n    </tr>\n    <tr>\n      <th>credacc_minhisbal_90A</th>\n      <td>False</td>\n      <td>75233</td>\n      <td>True</td>\n      <td>95.10</td>\n      <td>NaN</td>\n      <td>NaN</td>\n      <td>NaN</td>\n      <td>float64</td>\n    </tr>\n    <tr>\n      <th>credacc_status_367L</th>\n      <td>False</td>\n      <td>6</td>\n      <td>True</td>\n      <td>95.10</td>\n      <td>NaN</td>\n      <td>NaN</td>\n      <td>NaN</td>\n      <td>object</td>\n    </tr>\n    <tr>\n      <th>credacc_transactions_402L</th>\n      <td>False</td>\n      <td>102</td>\n      <td>True</td>\n      <td>95.10</td>\n      <td>NaN</td>\n      <td>NaN</td>\n      <td>NaN</td>\n      <td>float64</td>\n    </tr>\n    <tr>\n      <th>credamount_590A</th>\n      <td>False</td>\n      <td>252460</td>\n      <td>True</td>\n      <td>3.10</td>\n      <td>10000.0</td>\n      <td>40000.0</td>\n      <td>60000.0</td>\n      <td>float64</td>\n    </tr>\n    <tr>\n      <th>credtype_587L</th>\n      <td>False</td>\n      <td>3</td>\n      <td>True</td>\n      <td>3.10</td>\n      <td>CAL</td>\n      <td>CAL</td>\n      <td>CAL</td>\n      <td>object</td>\n    </tr>\n    <tr>\n      <th>currdebt_94A</th>\n      <td>False</td>\n      <td>531480</td>\n      <td>True</td>\n      <td>34.42</td>\n      <td>NaN</td>\n      <td>NaN</td>\n      <td>0.0</td>\n      <td>float64</td>\n    </tr>\n    <tr>\n      <th>dateactivated_425D</th>\n      <td>False</td>\n      <td>4256</td>\n      <td>True</td>\n      <td>48.14</td>\n      <td>NaN</td>\n      <td>NaN</td>\n      <td>2019-08-20</td>\n      <td>object</td>\n    </tr>\n    <tr>\n      <th>district_544M</th>\n      <td>False</td>\n      <td>1063</td>\n      <td>False</td>\n      <td>0.00</td>\n      <td>P136_108_173</td>\n      <td>P123_118_126</td>\n      <td>P48_127_19</td>\n      <td>object</td>\n    </tr>\n    <tr>\n      <th>downpmt_134A</th>\n      <td>False</td>\n      <td>22975</td>\n      <td>True</td>\n      <td>3.10</td>\n      <td>0.0</td>\n      <td>0.0</td>\n      <td>0.0</td>\n      <td>float64</td>\n    </tr>\n    <tr>\n      <th>dtlastpmt_581D</th>\n      <td>False</td>\n      <td>2554</td>\n      <td>True</td>\n      <td>72.79</td>\n      <td>NaN</td>\n      <td>NaN</td>\n      <td>2020-08-02</td>\n      <td>object</td>\n    </tr>\n    <tr>\n      <th>dtlastpmtallstes_3545839D</th>\n      <td>False</td>\n      <td>2570</td>\n      <td>True</td>\n      <td>61.96</td>\n      <td>NaN</td>\n      <td>NaN</td>\n      <td>2020-08-02</td>\n      <td>object</td>\n    </tr>\n    <tr>\n      <th>education_1138M</th>\n      <td>False</td>\n      <td>6</td>\n      <td>False</td>\n      <td>0.00</td>\n      <td>P97_36_170</td>\n      <td>a55475b1</td>\n      <td>P97_36_170</td>\n      <td>object</td>\n    </tr>\n    <tr>\n      <th>employedfrom_700D</th>\n      <td>False</td>\n      <td>10307</td>\n      <td>True</td>\n      <td>59.55</td>\n      <td>2010-02-15</td>\n      <td>NaN</td>\n      <td>NaN</td>\n      <td>object</td>\n    </tr>\n    <tr>\n      <th>familystate_726L</th>\n      <td>False</td>\n      <td>5</td>\n      <td>True</td>\n      <td>36.68</td>\n      <td>SINGLE</td>\n      <td>NaN</td>\n      <td>WIDOWED</td>\n      <td>object</td>\n    </tr>\n    <tr>\n      <th>firstnonzeroinstldate_307D</th>\n      <td>False</td>\n      <td>5165</td>\n      <td>True</td>\n      <td>10.00</td>\n      <td>2013-05-04</td>\n      <td>2019-05-22</td>\n      <td>2019-09-01</td>\n      <td>object</td>\n    </tr>\n    <tr>\n      <th>inittransactioncode_279L</th>\n      <td>False</td>\n      <td>3</td>\n      <td>True</td>\n      <td>3.10</td>\n      <td>CASH</td>\n      <td>CASH</td>\n      <td>CASH</td>\n      <td>object</td>\n    </tr>\n    <tr>\n      <th>isbidproduct_390L</th>\n      <td>False</td>\n      <td>2</td>\n      <td>True</td>\n      <td>0.00</td>\n      <td>False</td>\n      <td>False</td>\n      <td>False</td>\n      <td>object</td>\n    </tr>\n    <tr>\n      <th>isdebitcard_527L</th>\n      <td>False</td>\n      <td>2</td>\n      <td>True</td>\n      <td>92.91</td>\n      <td>NaN</td>\n      <td>NaN</td>\n      <td>NaN</td>\n      <td>object</td>\n    </tr>\n    <tr>\n      <th>mainoccupationinc_437A</th>\n      <td>False</td>\n      <td>28717</td>\n      <td>True</td>\n      <td>1.56</td>\n      <td>8200.0</td>\n      <td>16000.0</td>\n      <td>60000.0</td>\n      <td>float64</td>\n    </tr>\n    <tr>\n      <th>maxdpdtolerance_577P</th>\n      <td>False</td>\n      <td>3643</td>\n      <td>True</td>\n      <td>47.44</td>\n      <td>NaN</td>\n      <td>NaN</td>\n      <td>0.0</td>\n      <td>float64</td>\n    </tr>\n    <tr>\n      <th>num_group1</th>\n      <td>False</td>\n      <td>20</td>\n      <td>False</td>\n      <td>0.00</td>\n      <td>0</td>\n      <td>0</td>\n      <td>1</td>\n      <td>int64</td>\n    </tr>\n    <tr>\n      <th>outstandingdebt_522A</th>\n      <td>False</td>\n      <td>384590</td>\n      <td>True</td>\n      <td>34.60</td>\n      <td>NaN</td>\n      <td>NaN</td>\n      <td>0.0</td>\n      <td>float64</td>\n    </tr>\n    <tr>\n      <th>pmtnum_8L</th>\n      <td>False</td>\n      <td>60</td>\n      <td>True</td>\n      <td>8.46</td>\n      <td>24.0</td>\n      <td>18.0</td>\n      <td>12.0</td>\n      <td>float64</td>\n    </tr>\n    <tr>\n      <th>postype_4733339M</th>\n      <td>False</td>\n      <td>9</td>\n      <td>False</td>\n      <td>0.00</td>\n      <td>a55475b1</td>\n      <td>a55475b1</td>\n      <td>P46_145_78</td>\n      <td>object</td>\n    </tr>\n    <tr>\n      <th>profession_152M</th>\n      <td>False</td>\n      <td>11508</td>\n      <td>False</td>\n      <td>0.00</td>\n      <td>a55475b1</td>\n      <td>a55475b1</td>\n      <td>a55475b1</td>\n      <td>object</td>\n    </tr>\n    <tr>\n      <th>rejectreason_755M</th>\n      <td>False</td>\n      <td>18</td>\n      <td>False</td>\n      <td>0.00</td>\n      <td>a55475b1</td>\n      <td>P99_56_166</td>\n      <td>a55475b1</td>\n      <td>object</td>\n    </tr>\n    <tr>\n      <th>rejectreasonclient_4145042M</th>\n      <td>False</td>\n      <td>14</td>\n      <td>False</td>\n      <td>0.00</td>\n      <td>a55475b1</td>\n      <td>P94_109_143</td>\n      <td>a55475b1</td>\n      <td>object</td>\n    </tr>\n    <tr>\n      <th>revolvingaccount_394A</th>\n      <td>False</td>\n      <td>80700</td>\n      <td>True</td>\n      <td>95.45</td>\n      <td>NaN</td>\n      <td>NaN</td>\n      <td>NaN</td>\n      <td>float64</td>\n    </tr>\n    <tr>\n      <th>status_219L</th>\n      <td>False</td>\n      <td>11</td>\n      <td>True</td>\n      <td>0.00</td>\n      <td>D</td>\n      <td>D</td>\n      <td>K</td>\n      <td>object</td>\n    </tr>\n    <tr>\n      <th>tenor_203L</th>\n      <td>False</td>\n      <td>60</td>\n      <td>True</td>\n      <td>8.46</td>\n      <td>24.0</td>\n      <td>18.0</td>\n      <td>12.0</td>\n      <td>float64</td>\n    </tr>\n  </tbody>\n</table>\n</div>"
     },
     "execution_count": 7,
     "metadata": {},
     "output_type": "execute_result"
    }
   ],
   "source": [
    "eda_data"
   ]
  },
  {
   "cell_type": "code",
   "execution_count": 56,
   "id": "5a09204d",
   "metadata": {},
   "outputs": [],
   "source": [
    "filtered_data = eda_data[eda_data[\"null_pct\"] < threshold]"
   ]
  },
  {
   "cell_type": "code",
   "execution_count": 57,
   "id": "4135fcc2",
   "metadata": {},
   "outputs": [],
   "source": [
    "selected_columns = train_df.loc[:, filtered_data.index]"
   ]
  },
  {
   "cell_type": "code",
   "execution_count": 58,
   "id": "4f8610ca",
   "metadata": {},
   "outputs": [
    {
     "data": {
      "text/html": [
       "<div>\n",
       "<style scoped>\n",
       "    .dataframe tbody tr th:only-of-type {\n",
       "        vertical-align: middle;\n",
       "    }\n",
       "\n",
       "    .dataframe tbody tr th {\n",
       "        vertical-align: top;\n",
       "    }\n",
       "\n",
       "    .dataframe thead th {\n",
       "        text-align: right;\n",
       "    }\n",
       "</style>\n",
       "<table border=\"1\" class=\"dataframe\">\n",
       "  <thead>\n",
       "    <tr style=\"text-align: right;\">\n",
       "      <th></th>\n",
       "      <th>case_id</th>\n",
       "      <th>actualdpd_943P</th>\n",
       "      <th>annuity_853A</th>\n",
       "      <th>cancelreason_3545846M</th>\n",
       "      <th>creationdate_885D</th>\n",
       "      <th>credacc_credlmt_575A</th>\n",
       "      <th>credamount_590A</th>\n",
       "      <th>credtype_587L</th>\n",
       "      <th>district_544M</th>\n",
       "      <th>downpmt_134A</th>\n",
       "      <th>...</th>\n",
       "      <th>isbidproduct_390L</th>\n",
       "      <th>mainoccupationinc_437A</th>\n",
       "      <th>num_group1</th>\n",
       "      <th>pmtnum_8L</th>\n",
       "      <th>postype_4733339M</th>\n",
       "      <th>profession_152M</th>\n",
       "      <th>rejectreason_755M</th>\n",
       "      <th>rejectreasonclient_4145042M</th>\n",
       "      <th>status_219L</th>\n",
       "      <th>tenor_203L</th>\n",
       "    </tr>\n",
       "  </thead>\n",
       "  <tbody>\n",
       "    <tr>\n",
       "      <th>0</th>\n",
       "      <td>2</td>\n",
       "      <td>0.0</td>\n",
       "      <td>640.20000</td>\n",
       "      <td>a55475b1</td>\n",
       "      <td>2013-04-03</td>\n",
       "      <td>0.0</td>\n",
       "      <td>10000.0</td>\n",
       "      <td>CAL</td>\n",
       "      <td>P136_108_173</td>\n",
       "      <td>0.0</td>\n",
       "      <td>...</td>\n",
       "      <td>False</td>\n",
       "      <td>8200.0</td>\n",
       "      <td>0</td>\n",
       "      <td>24.0</td>\n",
       "      <td>a55475b1</td>\n",
       "      <td>a55475b1</td>\n",
       "      <td>a55475b1</td>\n",
       "      <td>a55475b1</td>\n",
       "      <td>D</td>\n",
       "      <td>24.0</td>\n",
       "    </tr>\n",
       "    <tr>\n",
       "      <th>1</th>\n",
       "      <td>2</td>\n",
       "      <td>0.0</td>\n",
       "      <td>1682.40000</td>\n",
       "      <td>a55475b1</td>\n",
       "      <td>2013-04-03</td>\n",
       "      <td>0.0</td>\n",
       "      <td>16000.0</td>\n",
       "      <td>CAL</td>\n",
       "      <td>P136_108_173</td>\n",
       "      <td>0.0</td>\n",
       "      <td>...</td>\n",
       "      <td>False</td>\n",
       "      <td>8200.0</td>\n",
       "      <td>1</td>\n",
       "      <td>12.0</td>\n",
       "      <td>a55475b1</td>\n",
       "      <td>a55475b1</td>\n",
       "      <td>a55475b1</td>\n",
       "      <td>a55475b1</td>\n",
       "      <td>D</td>\n",
       "      <td>12.0</td>\n",
       "    </tr>\n",
       "    <tr>\n",
       "      <th>2</th>\n",
       "      <td>3</td>\n",
       "      <td>0.0</td>\n",
       "      <td>6140.00000</td>\n",
       "      <td>P94_109_143</td>\n",
       "      <td>2019-01-07</td>\n",
       "      <td>0.0</td>\n",
       "      <td>59999.8</td>\n",
       "      <td>CAL</td>\n",
       "      <td>P131_33_167</td>\n",
       "      <td>0.0</td>\n",
       "      <td>...</td>\n",
       "      <td>False</td>\n",
       "      <td>11000.0</td>\n",
       "      <td>0</td>\n",
       "      <td>12.0</td>\n",
       "      <td>a55475b1</td>\n",
       "      <td>a55475b1</td>\n",
       "      <td>P94_109_143</td>\n",
       "      <td>a55475b1</td>\n",
       "      <td>D</td>\n",
       "      <td>12.0</td>\n",
       "    </tr>\n",
       "    <tr>\n",
       "      <th>3</th>\n",
       "      <td>4</td>\n",
       "      <td>0.0</td>\n",
       "      <td>2556.60000</td>\n",
       "      <td>P24_27_36</td>\n",
       "      <td>2019-01-08</td>\n",
       "      <td>0.0</td>\n",
       "      <td>40000.0</td>\n",
       "      <td>CAL</td>\n",
       "      <td>P194_82_174</td>\n",
       "      <td>0.0</td>\n",
       "      <td>...</td>\n",
       "      <td>False</td>\n",
       "      <td>16000.0</td>\n",
       "      <td>0</td>\n",
       "      <td>24.0</td>\n",
       "      <td>a55475b1</td>\n",
       "      <td>a55475b1</td>\n",
       "      <td>a55475b1</td>\n",
       "      <td>a55475b1</td>\n",
       "      <td>T</td>\n",
       "      <td>24.0</td>\n",
       "    </tr>\n",
       "    <tr>\n",
       "      <th>4</th>\n",
       "      <td>5</td>\n",
       "      <td>0.0</td>\n",
       "      <td>NaN</td>\n",
       "      <td>P85_114_140</td>\n",
       "      <td>2019-01-16</td>\n",
       "      <td>NaN</td>\n",
       "      <td>NaN</td>\n",
       "      <td>NaN</td>\n",
       "      <td>P54_133_26</td>\n",
       "      <td>NaN</td>\n",
       "      <td>...</td>\n",
       "      <td>False</td>\n",
       "      <td>62000.0</td>\n",
       "      <td>0</td>\n",
       "      <td>NaN</td>\n",
       "      <td>a55475b1</td>\n",
       "      <td>a55475b1</td>\n",
       "      <td>a55475b1</td>\n",
       "      <td>a55475b1</td>\n",
       "      <td>T</td>\n",
       "      <td>NaN</td>\n",
       "    </tr>\n",
       "    <tr>\n",
       "      <th>...</th>\n",
       "      <td>...</td>\n",
       "      <td>...</td>\n",
       "      <td>...</td>\n",
       "      <td>...</td>\n",
       "      <td>...</td>\n",
       "      <td>...</td>\n",
       "      <td>...</td>\n",
       "      <td>...</td>\n",
       "      <td>...</td>\n",
       "      <td>...</td>\n",
       "      <td>...</td>\n",
       "      <td>...</td>\n",
       "      <td>...</td>\n",
       "      <td>...</td>\n",
       "      <td>...</td>\n",
       "      <td>...</td>\n",
       "      <td>...</td>\n",
       "      <td>...</td>\n",
       "      <td>...</td>\n",
       "      <td>...</td>\n",
       "      <td>...</td>\n",
       "    </tr>\n",
       "    <tr>\n",
       "      <th>6525974</th>\n",
       "      <td>2703453</td>\n",
       "      <td>0.0</td>\n",
       "      <td>927.80000</td>\n",
       "      <td>a55475b1</td>\n",
       "      <td>2014-01-22</td>\n",
       "      <td>0.0</td>\n",
       "      <td>10000.0</td>\n",
       "      <td>CAL</td>\n",
       "      <td>P123_6_84</td>\n",
       "      <td>0.0</td>\n",
       "      <td>...</td>\n",
       "      <td>False</td>\n",
       "      <td>7000.0</td>\n",
       "      <td>6</td>\n",
       "      <td>18.0</td>\n",
       "      <td>P177_117_192</td>\n",
       "      <td>a55475b1</td>\n",
       "      <td>a55475b1</td>\n",
       "      <td>a55475b1</td>\n",
       "      <td>K</td>\n",
       "      <td>18.0</td>\n",
       "    </tr>\n",
       "    <tr>\n",
       "      <th>6525975</th>\n",
       "      <td>2703453</td>\n",
       "      <td>0.0</td>\n",
       "      <td>266.80002</td>\n",
       "      <td>a55475b1</td>\n",
       "      <td>2013-06-29</td>\n",
       "      <td>0.0</td>\n",
       "      <td>2198.0</td>\n",
       "      <td>COL</td>\n",
       "      <td>P123_6_84</td>\n",
       "      <td>0.0</td>\n",
       "      <td>...</td>\n",
       "      <td>False</td>\n",
       "      <td>7000.0</td>\n",
       "      <td>7</td>\n",
       "      <td>12.0</td>\n",
       "      <td>P177_117_192</td>\n",
       "      <td>a55475b1</td>\n",
       "      <td>a55475b1</td>\n",
       "      <td>a55475b1</td>\n",
       "      <td>K</td>\n",
       "      <td>12.0</td>\n",
       "    </tr>\n",
       "    <tr>\n",
       "      <th>6525976</th>\n",
       "      <td>2703453</td>\n",
       "      <td>0.0</td>\n",
       "      <td>416.20000</td>\n",
       "      <td>a55475b1</td>\n",
       "      <td>2013-06-29</td>\n",
       "      <td>0.0</td>\n",
       "      <td>2198.0</td>\n",
       "      <td>COL</td>\n",
       "      <td>P123_6_84</td>\n",
       "      <td>0.0</td>\n",
       "      <td>...</td>\n",
       "      <td>False</td>\n",
       "      <td>7000.0</td>\n",
       "      <td>8</td>\n",
       "      <td>6.0</td>\n",
       "      <td>P177_117_192</td>\n",
       "      <td>a55475b1</td>\n",
       "      <td>a55475b1</td>\n",
       "      <td>a55475b1</td>\n",
       "      <td>D</td>\n",
       "      <td>6.0</td>\n",
       "    </tr>\n",
       "    <tr>\n",
       "      <th>6525977</th>\n",
       "      <td>2703454</td>\n",
       "      <td>0.0</td>\n",
       "      <td>2986.80000</td>\n",
       "      <td>a55475b1</td>\n",
       "      <td>2020-06-21</td>\n",
       "      <td>0.0</td>\n",
       "      <td>15998.0</td>\n",
       "      <td>COL</td>\n",
       "      <td>P48_127_19</td>\n",
       "      <td>0.0</td>\n",
       "      <td>...</td>\n",
       "      <td>False</td>\n",
       "      <td>24000.0</td>\n",
       "      <td>0</td>\n",
       "      <td>6.0</td>\n",
       "      <td>P177_117_192</td>\n",
       "      <td>a55475b1</td>\n",
       "      <td>a55475b1</td>\n",
       "      <td>a55475b1</td>\n",
       "      <td>A</td>\n",
       "      <td>6.0</td>\n",
       "    </tr>\n",
       "    <tr>\n",
       "      <th>6525978</th>\n",
       "      <td>2703454</td>\n",
       "      <td>0.0</td>\n",
       "      <td>6726.60000</td>\n",
       "      <td>a55475b1</td>\n",
       "      <td>2019-08-01</td>\n",
       "      <td>0.0</td>\n",
       "      <td>60000.0</td>\n",
       "      <td>CAL</td>\n",
       "      <td>P48_127_19</td>\n",
       "      <td>0.0</td>\n",
       "      <td>...</td>\n",
       "      <td>False</td>\n",
       "      <td>60000.0</td>\n",
       "      <td>1</td>\n",
       "      <td>12.0</td>\n",
       "      <td>P46_145_78</td>\n",
       "      <td>a55475b1</td>\n",
       "      <td>a55475b1</td>\n",
       "      <td>a55475b1</td>\n",
       "      <td>K</td>\n",
       "      <td>12.0</td>\n",
       "    </tr>\n",
       "  </tbody>\n",
       "</table>\n",
       "<p>6525979 rows × 22 columns</p>\n",
       "</div>"
      ],
      "text/plain": [
       "         case_id  actualdpd_943P  annuity_853A cancelreason_3545846M  \\\n",
       "0              2             0.0     640.20000              a55475b1   \n",
       "1              2             0.0    1682.40000              a55475b1   \n",
       "2              3             0.0    6140.00000           P94_109_143   \n",
       "3              4             0.0    2556.60000             P24_27_36   \n",
       "4              5             0.0           NaN           P85_114_140   \n",
       "...          ...             ...           ...                   ...   \n",
       "6525974  2703453             0.0     927.80000              a55475b1   \n",
       "6525975  2703453             0.0     266.80002              a55475b1   \n",
       "6525976  2703453             0.0     416.20000              a55475b1   \n",
       "6525977  2703454             0.0    2986.80000              a55475b1   \n",
       "6525978  2703454             0.0    6726.60000              a55475b1   \n",
       "\n",
       "        creationdate_885D  credacc_credlmt_575A  credamount_590A  \\\n",
       "0              2013-04-03                   0.0          10000.0   \n",
       "1              2013-04-03                   0.0          16000.0   \n",
       "2              2019-01-07                   0.0          59999.8   \n",
       "3              2019-01-08                   0.0          40000.0   \n",
       "4              2019-01-16                   NaN              NaN   \n",
       "...                   ...                   ...              ...   \n",
       "6525974        2014-01-22                   0.0          10000.0   \n",
       "6525975        2013-06-29                   0.0           2198.0   \n",
       "6525976        2013-06-29                   0.0           2198.0   \n",
       "6525977        2020-06-21                   0.0          15998.0   \n",
       "6525978        2019-08-01                   0.0          60000.0   \n",
       "\n",
       "        credtype_587L district_544M  downpmt_134A  ... isbidproduct_390L  \\\n",
       "0                 CAL  P136_108_173           0.0  ...             False   \n",
       "1                 CAL  P136_108_173           0.0  ...             False   \n",
       "2                 CAL   P131_33_167           0.0  ...             False   \n",
       "3                 CAL   P194_82_174           0.0  ...             False   \n",
       "4                 NaN    P54_133_26           NaN  ...             False   \n",
       "...               ...           ...           ...  ...               ...   \n",
       "6525974           CAL     P123_6_84           0.0  ...             False   \n",
       "6525975           COL     P123_6_84           0.0  ...             False   \n",
       "6525976           COL     P123_6_84           0.0  ...             False   \n",
       "6525977           COL    P48_127_19           0.0  ...             False   \n",
       "6525978           CAL    P48_127_19           0.0  ...             False   \n",
       "\n",
       "        mainoccupationinc_437A num_group1  pmtnum_8L  postype_4733339M  \\\n",
       "0                       8200.0          0       24.0          a55475b1   \n",
       "1                       8200.0          1       12.0          a55475b1   \n",
       "2                      11000.0          0       12.0          a55475b1   \n",
       "3                      16000.0          0       24.0          a55475b1   \n",
       "4                      62000.0          0        NaN          a55475b1   \n",
       "...                        ...        ...        ...               ...   \n",
       "6525974                 7000.0          6       18.0      P177_117_192   \n",
       "6525975                 7000.0          7       12.0      P177_117_192   \n",
       "6525976                 7000.0          8        6.0      P177_117_192   \n",
       "6525977                24000.0          0        6.0      P177_117_192   \n",
       "6525978                60000.0          1       12.0        P46_145_78   \n",
       "\n",
       "         profession_152M rejectreason_755M rejectreasonclient_4145042M  \\\n",
       "0               a55475b1          a55475b1                    a55475b1   \n",
       "1               a55475b1          a55475b1                    a55475b1   \n",
       "2               a55475b1       P94_109_143                    a55475b1   \n",
       "3               a55475b1          a55475b1                    a55475b1   \n",
       "4               a55475b1          a55475b1                    a55475b1   \n",
       "...                  ...               ...                         ...   \n",
       "6525974         a55475b1          a55475b1                    a55475b1   \n",
       "6525975         a55475b1          a55475b1                    a55475b1   \n",
       "6525976         a55475b1          a55475b1                    a55475b1   \n",
       "6525977         a55475b1          a55475b1                    a55475b1   \n",
       "6525978         a55475b1          a55475b1                    a55475b1   \n",
       "\n",
       "        status_219L tenor_203L  \n",
       "0                 D       24.0  \n",
       "1                 D       12.0  \n",
       "2                 D       12.0  \n",
       "3                 T       24.0  \n",
       "4                 T        NaN  \n",
       "...             ...        ...  \n",
       "6525974           K       18.0  \n",
       "6525975           K       12.0  \n",
       "6525976           D        6.0  \n",
       "6525977           A        6.0  \n",
       "6525978           K       12.0  \n",
       "\n",
       "[6525979 rows x 22 columns]"
      ]
     },
     "execution_count": 58,
     "metadata": {},
     "output_type": "execute_result"
    }
   ],
   "source": [
    "selected_columns "
   ]
  },
  {
   "cell_type": "code",
   "execution_count": 6,
   "metadata": {
    "ExecuteTime": {
     "end_time": "2024-02-19T19:20:54.975681Z",
     "start_time": "2024-02-19T19:20:54.971830Z"
    }
   },
   "outputs": [],
   "source": [
    "import pandas as pd\n",
    "import matplotlib.pyplot as plt\n",
    "\n",
    "def plot_distribution(dataframe, column, bins='auto', title=None, xlabel=None, ylabel=None, drop_invalid=False):\n",
    "    \"\"\"\n",
    "    Plot the distribution of a column in a DataFrame.\n",
    "    \n",
    "    Parameters:\n",
    "    - dataframe: pandas.DataFrame\n",
    "    - column: str, the column name to plot\n",
    "    - bins: int or 'auto', the number of bins for continuous data or 'auto' for automatic binning\n",
    "    \"\"\"\n",
    "    \n",
    "    # Check if the column exists in the DataFrame\n",
    "    if column not in dataframe.columns:\n",
    "        print(f\"Error: Column '{column}' not found in the DataFrame.\")\n",
    "        return\n",
    "\n",
    "    # Drop NaNs or empties if specified\n",
    "    if drop_invalid:\n",
    "        dataframe = dataframe.dropna(subset=[column])\n",
    "    plt.figure(figsize=(10, 6))\n",
    "    \n",
    "    # Check if the column is categorical (less than 100 unique values)\n",
    "    if dataframe[column].nunique() < 100:  \n",
    "        value_counts = dataframe[column].value_counts()\n",
    "        plt.figure(figsize=(10, 6))\n",
    "        value_counts.plot(kind='bar')\n",
    "        plt.title(f'Distribution of {column} - Categorical')\n",
    "        plt.xlabel(column)\n",
    "        plt.ylabel('Frequency')\n",
    "    else:\n",
    "        # Continuous data handling\n",
    "        mean   = dataframe[column].mean()\n",
    "        median = dataframe[column].median()\n",
    "        mode_value = mode(dataframe[column])[0]\n",
    "        \n",
    "        plt.figure(figsize=(10, 6))\n",
    "        dataframe[column].hist(bins=bins)\n",
    "        # dataframe[column].plot()\n",
    "        plt.title(f'Distribution of {column} - Continuous')\n",
    "        \n",
    "        plt.axvline(mean, color='red', linestyle='dashed', label='Mean')\n",
    "        plt.axvline(median, color='green', linestyle='dashed', label='Median')\n",
    "        plt.axvline(mode_value, color='blue', linestyle='dashed', label='Mode')\n",
    "        \n",
    "        plt.xlabel(column)\n",
    "        plt.ylabel('Frequency')\n",
    "        plt.ylim(0, 10000)\n",
    "        # plt.xlim(-110000, 110000)\n",
    "    \n",
    "        plt.title(title or f'Distribution of {column}, mean: {np.floor(mean)}, median: {np.floor(median)}, mode: {mode_value}')\n",
    "        plt.xlabel(xlabel or f'{column} values')\n",
    "        plt.ylabel(ylabel or 'Frequency')\n",
    "              \n",
    "    plt.legend()\n",
    "    plt.grid(False)\n",
    "    plt.show()\n",
    "\n",
    "# Example usage\n",
    "# Assuming `df` is your pandas DataFrame and `column_name` is the column you want to plot\n",
    "# plot_distribution(df, 'column_name')"
   ],
   "id": "eb0cea04a85dbdb6"
  },
  {
   "cell_type": "code",
   "execution_count": 8,
   "outputs": [
    {
     "data": {
      "text/plain": "<Figure size 1000x600 with 0 Axes>"
     },
     "metadata": {},
     "output_type": "display_data"
    },
    {
     "data": {
      "text/plain": "<Figure size 1000x600 with 1 Axes>",
      "image/png": "[encoded data removed]"
     },
     "metadata": {},
     "output_type": "display_data"
    }
   ],
   "source": [
    "plot_distribution(train_df, \"isbidproduct_390L\")"
   ],
   "metadata": {
    "collapsed": false,
    "ExecuteTime": {
     "end_time": "2024-02-19T19:22:22.590430Z",
     "start_time": "2024-02-19T19:22:22.283944Z"
    }
   },
   "id": "2fc56636488ba0b9"
  },
  {
   "cell_type": "code",
   "execution_count": 32,
   "outputs": [],
   "source": [
    "import pandas as pd\n",
    "import seaborn as sns\n",
    "import matplotlib.pyplot as plt\n",
    "\n",
    "def plot_numerical_by_target_pandas(df_base, df, max_samples=1000000):\n",
    "    # Merge the dataframes on 'case_id', assuming 'case_id' is a common column\n",
    "    X = pd.merge(df_base, df, on='case_id', how='left')\n",
    "    \n",
    "    # Sample the dataframe if it's too large\n",
    "    if len(X) > max_samples:\n",
    "        X = X.sample(n=max_samples, random_state=0)\n",
    "    \n",
    "    # Filter columns that end with \"L\"\n",
    "    columns_to_plot = [col for col in df.columns if col.endswith('L')]\n",
    "\n",
    "    # Iterate over each filtered column and plot\n",
    "    for col in columns_to_plot:\n",
    "        # Define x and y for plotting\n",
    "        y = X['target']\n",
    "        x = X[col]\n",
    "        \n",
    "        fig, axes = plt.subplots(1, 2, figsize=(16, 4))  # Adjusted for a single group\n",
    "        \n",
    "        # Correctly using 'hue' for violin plot to avoid deprecation warning\n",
    "        # Since 'x' is actually the category we're plotting by, 'hue' should also be the same to apply color coding\n",
    "        sns.violinplot(x=x, y=y, hue=y, split=True, inner=\"quart\", palette=['#add8e6', '#ffcc99'], ax=axes[0])\n",
    "        axes[0].legend().set_visible(False)  # Hide the legend if not needed\n",
    "        \n",
    "        # Strip plot on the second subplot for the same data, using a specified color\n",
    "        sns.stripplot(x=x, y=y, color='#6495ed', alpha=0.5, ax=axes[1])\n",
    "        \n",
    "        plt.tight_layout()\n",
    "        plt.suptitle(f'Plots for {col}', y=1.02)  # Add a title with the column name\n",
    "        plt.show()\n",
    "\n",
    "# Example usage:\n",
    "# Ensure df_base and df are pandas DataFrames.\n",
    "# plot_numerical_by_target_pandas(df_base, df)"
   ],
   "metadata": {
    "collapsed": false,
    "ExecuteTime": {
     "end_time": "2024-02-19T19:16:08.906608Z",
     "start_time": "2024-02-19T19:16:08.874418Z"
    }
   },
   "id": "ed1e4af2b519adb"
  },
  {
   "cell_type": "code",
   "execution_count": null,
   "outputs": [
    {
     "name": "stderr",
     "output_type": "stream",
     "text": [
      "\n",
      "KeyboardInterrupt\n",
      "\n"
     ]
    },
    {
     "name": "stdout",
     "output_type": "stream",
     "text": [
      "Error in callback <function _draw_all_if_interactive at 0x158354d60> (for post_execute), with arguments args (),kwargs {}:\n"
     ]
    },
    {
     "name": "stderr",
     "output_type": "stream",
     "text": [
      "\n",
      "KeyboardInterrupt\n",
      "\n"
     ]
    }
   ],
   "source": [
    "plot_numerical_by_target_pandas(df_train_base, train_df)"
   ],
   "metadata": {
    "collapsed": false,
    "ExecuteTime": {
     "start_time": "2024-02-19T19:16:15.540308Z"
    }
   },
   "id": "8f9f2d5ca5c7ca35"
  },
  {
   "cell_type": "code",
   "execution_count": 186,
   "outputs": [
    {
     "name": "stdout",
     "output_type": "stream",
     "text": [
      "Percentage of 0 in 'credacc_transactions_402L' column: 88.99%\n"
     ]
    }
   ],
   "source": [
    "import pandas as pd\n",
    "\n",
    "# Assuming `train_df` is your DataFrame and `credacc_actualbalance_314A` is the column of interest\n",
    "\n",
    "# Count the number of zeros\n",
    "count_zeros = (train_df['credacc_transactions_402L'] == 0).sum()\n",
    "\n",
    "# Count the total number of non-NaN values\n",
    "total_non_nan_values = train_df['credacc_transactions_402L'].notna().sum()\n",
    "\n",
    "# Calculate the percentage of zeros\n",
    "percentage_zeros = (count_zeros / total_non_nan_values) * 100\n",
    "\n",
    "print(f\"Percentage of 0 in 'credacc_transactions_402L' column: {percentage_zeros:.2f}%\")"
   ],
   "metadata": {
    "collapsed": false,
    "ExecuteTime": {
     "end_time": "2024-02-11T19:10:08.226775Z",
     "start_time": "2024-02-11T19:10:08.179143Z"
    }
   },
   "id": "a6fe5e455e96a3ce"
  },
  {
   "cell_type": "code",
   "execution_count": 177,
   "outputs": [
    {
     "name": "stdout",
     "output_type": "stream",
     "text": [
      "Percentage of [-10, 10] values in 'credacc_minhisbal_90A' column: 61.19%\n"
     ]
    }
   ],
   "source": [
    "import pandas as pd\n",
    "\n",
    "# Assuming `train_df` is your DataFrame and `credacc_actualbalance_314A` is the column of interest\n",
    "\n",
    "# Count the number of zeros\n",
    "count_zeros = ((train_df['credacc_minhisbal_90A'] < 1) & (train_df['credacc_minhisbal_90A'] > -1)).sum()\n",
    "\n",
    "\n",
    "# Count the total number of non-NaN values\n",
    "total_non_nan_values = train_df['credacc_minhisbal_90A'].notna().sum()\n",
    "\n",
    "# Calculate the percentage of zeros\n",
    "percentage_zeros = (count_zeros / total_non_nan_values) * 100\n",
    "\n",
    "print(f\"Percentage of [-10, 10] values in 'credacc_minhisbal_90A' column: {percentage_zeros:.2f}%\")"
   ],
   "metadata": {
    "collapsed": false,
    "ExecuteTime": {
     "end_time": "2024-02-11T19:04:48.765440Z",
     "start_time": "2024-02-11T19:04:48.685200Z"
    }
   },
   "id": "bcfcefe9b10a9a4"
  },
  {
   "cell_type": "code",
   "execution_count": 71,
   "outputs": [
    {
     "data": {
      "text/plain": "3253          7766\n17610        42755\n18792        45252\n21592        50667\n24517       103107\n            ...   \n1217052    2698944\n1219604    2701496\n1219654    2701546\n1220608    2702500\n1221238    2703143\nName: case_id, Length: 3875, dtype: int64"
     },
     "execution_count": 71,
     "metadata": {},
     "output_type": "execute_result"
    }
   ],
   "source": [
    "valid_case_ids"
   ],
   "metadata": {
    "collapsed": false,
    "ExecuteTime": {
     "end_time": "2024-02-11T17:07:13.181203Z",
     "start_time": "2024-02-11T17:07:13.157418Z"
    }
   },
   "id": "eb1c09f97751ee40"
  },
  {
   "cell_type": "code",
   "execution_count": 57,
   "outputs": [
    {
     "data": {
      "text/plain": "6527"
     },
     "execution_count": 57,
     "metadata": {},
     "output_type": "execute_result"
    }
   ],
   "source": [
    "len(filtered_df)"
   ],
   "metadata": {
    "collapsed": false,
    "ExecuteTime": {
     "end_time": "2024-02-11T16:48:28.684022Z",
     "start_time": "2024-02-11T16:48:28.643822Z"
    }
   },
   "id": "b925ddb15e968869"
  },
  {
   "cell_type": "code",
   "execution_count": 65,
   "outputs": [
    {
     "data": {
      "text/plain": "7157       16.0\n27718       NaN\n35635       NaN\n36414       NaN\n36856       NaN\n           ... \n6513870     3.0\n6516313     NaN\n6519462     NaN\n6519916     2.0\n6524115     1.0\nName: actualdpd_943P, Length: 6527, dtype: float64"
     },
     "execution_count": 65,
     "metadata": {},
     "output_type": "execute_result"
    }
   ],
   "source": [
    "filtered_df[\"actualdpd_943P\"]"
   ],
   "metadata": {
    "collapsed": false,
    "ExecuteTime": {
     "end_time": "2024-02-11T16:53:36.888974Z",
     "start_time": "2024-02-11T16:53:36.866225Z"
    }
   },
   "id": "bc0186f9c95ae295"
  },
  {
   "cell_type": "code",
   "execution_count": null,
   "outputs": [],
   "source": [],
   "metadata": {
    "collapsed": false
   },
   "id": "bb3be1b5d77873b4"
  }
 ],
 "metadata": {
  "kernelspec": {
   "display_name": "Python 3",
   "language": "python",
   "name": "python3"
  },
  "language_info": {
   "codemirror_mode": {
    "name": "ipython",
    "version": 3
   },
   "file_extension": ".py",
   "mimetype": "text/x-python",
   "name": "python",
   "nbconvert_exporter": "python",
   "pygments_lexer": "ipython3",
   "version": "3.10.11"
  }
 },
 "nbformat": 4,
 "nbformat_minor": 5
}
