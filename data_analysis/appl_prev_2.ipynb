{
 "cells": [
  {
   "cell_type": "code",
   "execution_count": 1,
   "metadata": {
    "collapsed": true
   },
   "outputs": [],
   "source": [
    "import pandas as pd\n",
    "import polars as pl\n",
    "from sklearn.preprocessing import LabelEncoder\n",
    "import numpy as np\n",
    "\n",
    "ROOT_DIR = './../home-credit-credit-risk-model-stability/'"
   ]
  },
  {
   "cell_type": "code",
   "execution_count": 2,
   "outputs": [],
   "source": [
    "# Utils to format the tables\n",
    "def set_table_dtypes(df):\n",
    "    # implement here all desired dtypes for tables\n",
    "    # the following is just an example\n",
    "    for col in df.columns:\n",
    "        # last letter of column name will help you determine the type\n",
    "        if col[-1] in (\"P\", \"A\"):\n",
    "            df = df.with_columns(pl.col(col).cast(pl.Float64).alias(col))\n",
    "\n",
    "    return df\n",
    "\n",
    "def inspect_columns(df):\n",
    "    df = pd.DataFrame(df)\n",
    "    result = pd.DataFrame({\n",
    "        'unique': df.nunique() == len(df),\n",
    "        'cardinality': df.nunique(),\n",
    "        'with_null': df.isna().any(),\n",
    "        'null_pct': round((df.isnull().sum() / len(df)) * 100, 2),\n",
    "        '1st_row': df.iloc[0],\n",
    "        'random_row': df.iloc[np.random.randint(low=0, high=len(df))],\n",
    "        'last_row': df.iloc[-1],\n",
    "        'dtype': df.dtypes\n",
    "    })\n",
    "    return result"
   ],
   "metadata": {
    "collapsed": false
   }
  },
  {
   "cell_type": "code",
   "execution_count": 3,
   "outputs": [],
   "source": [
    "train_appl_prev_depth2 = pd.read_csv(ROOT_DIR + \"csv_files/train/train_applprev_2.csv\").pipe(set_table_dtypes)"
   ],
   "metadata": {
    "collapsed": false
   }
  },
  {
   "cell_type": "code",
   "execution_count": 4,
   "outputs": [
    {
     "data": {
      "text/plain": "                          unique  cardinality  with_null  null_pct  \\\ncase_id                    False      1221522      False      0.00   \ncacccardblochreas_147M     False            9       True      0.78   \nconts_type_509L            False            9       True     17.01   \ncredacc_cards_status_52L   False            6       True     97.57   \nnum_group1                 False           20      False      0.00   \nnum_group2                 False           12      False      0.00   \n\n                                   1st_row        random_row    last_row  \\\ncase_id                                  2           2536086     2703454   \ncacccardblochreas_147M                 NaN          a55475b1    a55475b1   \nconts_type_509L           EMPLOYMENT_PHONE  EMPLOYMENT_PHONE  HOME_PHONE   \ncredacc_cards_status_52L               NaN               NaN         NaN   \nnum_group1                               1                 3           1   \nnum_group2                               1                 0           1   \n\n                           dtype  \ncase_id                    int64  \ncacccardblochreas_147M    object  \nconts_type_509L           object  \ncredacc_cards_status_52L  object  \nnum_group1                 int64  \nnum_group2                 int64  ",
      "text/html": "<div>\n<style scoped>\n    .dataframe tbody tr th:only-of-type {\n        vertical-align: middle;\n    }\n\n    .dataframe tbody tr th {\n        vertical-align: top;\n    }\n\n    .dataframe thead th {\n        text-align: right;\n    }\n</style>\n<table border=\"1\" class=\"dataframe\">\n  <thead>\n    <tr style=\"text-align: right;\">\n      <th></th>\n      <th>unique</th>\n      <th>cardinality</th>\n      <th>with_null</th>\n      <th>null_pct</th>\n      <th>1st_row</th>\n      <th>random_row</th>\n      <th>last_row</th>\n      <th>dtype</th>\n    </tr>\n  </thead>\n  <tbody>\n    <tr>\n      <th>case_id</th>\n      <td>False</td>\n      <td>1221522</td>\n      <td>False</td>\n      <td>0.00</td>\n      <td>2</td>\n      <td>2536086</td>\n      <td>2703454</td>\n      <td>int64</td>\n    </tr>\n    <tr>\n      <th>cacccardblochreas_147M</th>\n      <td>False</td>\n      <td>9</td>\n      <td>True</td>\n      <td>0.78</td>\n      <td>NaN</td>\n      <td>a55475b1</td>\n      <td>a55475b1</td>\n      <td>object</td>\n    </tr>\n    <tr>\n      <th>conts_type_509L</th>\n      <td>False</td>\n      <td>9</td>\n      <td>True</td>\n      <td>17.01</td>\n      <td>EMPLOYMENT_PHONE</td>\n      <td>EMPLOYMENT_PHONE</td>\n      <td>HOME_PHONE</td>\n      <td>object</td>\n    </tr>\n    <tr>\n      <th>credacc_cards_status_52L</th>\n      <td>False</td>\n      <td>6</td>\n      <td>True</td>\n      <td>97.57</td>\n      <td>NaN</td>\n      <td>NaN</td>\n      <td>NaN</td>\n      <td>object</td>\n    </tr>\n    <tr>\n      <th>num_group1</th>\n      <td>False</td>\n      <td>20</td>\n      <td>False</td>\n      <td>0.00</td>\n      <td>1</td>\n      <td>3</td>\n      <td>1</td>\n      <td>int64</td>\n    </tr>\n    <tr>\n      <th>num_group2</th>\n      <td>False</td>\n      <td>12</td>\n      <td>False</td>\n      <td>0.00</td>\n      <td>1</td>\n      <td>0</td>\n      <td>1</td>\n      <td>int64</td>\n    </tr>\n  </tbody>\n</table>\n</div>"
     },
     "execution_count": 4,
     "metadata": {},
     "output_type": "execute_result"
    }
   ],
   "source": [
    "inspect_columns(train_appl_prev_depth2)"
   ],
   "metadata": {
    "collapsed": false
   }
  },
  {
   "cell_type": "markdown",
   "source": [
    "### Clean up the data"
   ],
   "metadata": {
    "collapsed": false
   }
  },
  {
   "cell_type": "code",
   "execution_count": 6,
   "outputs": [],
   "source": [
    "def appl_prev_depth2_transform(df):\n",
    "    df.drop('credacc_cards_status_52L', axis=1, inplace=True) # Drop Card status of the previous credit account:  Because 98% is 0\n",
    "    df.drop('cacccardblochreas_147M', axis=1, inplace=True)   # Drop Card block reason: because 99% of data has value a55475b1.\n",
    "\n",
    "    df['conts_type_509L'] = LabelEncoder().fit_transform(df['conts_type_509L']) # Encode ordinal value\n",
    "\n",
    "appl_prev_depth2_transform(train_appl_prev_depth2)"
   ],
   "metadata": {
    "collapsed": false,
    "ExecuteTime": {
     "end_time": "2024-02-09T20:41:23.335878900Z",
     "start_time": "2024-02-09T20:41:20.813180Z"
    }
   }
  },
  {
   "cell_type": "code",
   "execution_count": 7,
   "outputs": [
    {
     "data": {
      "text/plain": "                 unique  cardinality  with_null  null_pct  1st_row  \\\ncase_id           False      1221522      False       0.0        2   \nconts_type_509L   False           10      False       0.0        1   \nnum_group1        False           20      False       0.0        1   \nnum_group2        False           12      False       0.0        1   \n\n                 random_row  last_row  dtype  \ncase_id             2672730   2703454  int64  \nconts_type_509L           2         2  int32  \nnum_group1                0         1  int64  \nnum_group2                1         1  int64  ",
      "text/html": "<div>\n<style scoped>\n    .dataframe tbody tr th:only-of-type {\n        vertical-align: middle;\n    }\n\n    .dataframe tbody tr th {\n        vertical-align: top;\n    }\n\n    .dataframe thead th {\n        text-align: right;\n    }\n</style>\n<table border=\"1\" class=\"dataframe\">\n  <thead>\n    <tr style=\"text-align: right;\">\n      <th></th>\n      <th>unique</th>\n      <th>cardinality</th>\n      <th>with_null</th>\n      <th>null_pct</th>\n      <th>1st_row</th>\n      <th>random_row</th>\n      <th>last_row</th>\n      <th>dtype</th>\n    </tr>\n  </thead>\n  <tbody>\n    <tr>\n      <th>case_id</th>\n      <td>False</td>\n      <td>1221522</td>\n      <td>False</td>\n      <td>0.0</td>\n      <td>2</td>\n      <td>2672730</td>\n      <td>2703454</td>\n      <td>int64</td>\n    </tr>\n    <tr>\n      <th>conts_type_509L</th>\n      <td>False</td>\n      <td>10</td>\n      <td>False</td>\n      <td>0.0</td>\n      <td>1</td>\n      <td>2</td>\n      <td>2</td>\n      <td>int32</td>\n    </tr>\n    <tr>\n      <th>num_group1</th>\n      <td>False</td>\n      <td>20</td>\n      <td>False</td>\n      <td>0.0</td>\n      <td>1</td>\n      <td>0</td>\n      <td>1</td>\n      <td>int64</td>\n    </tr>\n    <tr>\n      <th>num_group2</th>\n      <td>False</td>\n      <td>12</td>\n      <td>False</td>\n      <td>0.0</td>\n      <td>1</td>\n      <td>1</td>\n      <td>1</td>\n      <td>int64</td>\n    </tr>\n  </tbody>\n</table>\n</div>"
     },
     "execution_count": 7,
     "metadata": {},
     "output_type": "execute_result"
    }
   ],
   "source": [
    "inspect_columns(train_appl_prev_depth2)"
   ],
   "metadata": {
    "collapsed": false,
    "ExecuteTime": {
     "end_time": "2024-02-09T20:41:24.232368800Z",
     "start_time": "2024-02-09T20:41:23.335878900Z"
    }
   }
  },
  {
   "cell_type": "code",
   "execution_count": 8,
   "outputs": [
    {
     "data": {
      "text/plain": "          case_id  conts_type_509L  num_group1  num_group2\n0               2                1           1           1\n1               2                1           0           1\n2               2                5           0           0\n3               2                5           1           0\n4               3                5           0           1\n...           ...              ...         ...         ...\n14075482  2703454                5           0           0\n14075483  2703454                9           1           3\n14075484  2703454                9           0           1\n14075485  2703454                5           1           0\n14075486  2703454                2           1           1\n\n[14075487 rows x 4 columns]",
      "text/html": "<div>\n<style scoped>\n    .dataframe tbody tr th:only-of-type {\n        vertical-align: middle;\n    }\n\n    .dataframe tbody tr th {\n        vertical-align: top;\n    }\n\n    .dataframe thead th {\n        text-align: right;\n    }\n</style>\n<table border=\"1\" class=\"dataframe\">\n  <thead>\n    <tr style=\"text-align: right;\">\n      <th></th>\n      <th>case_id</th>\n      <th>conts_type_509L</th>\n      <th>num_group1</th>\n      <th>num_group2</th>\n    </tr>\n  </thead>\n  <tbody>\n    <tr>\n      <th>0</th>\n      <td>2</td>\n      <td>1</td>\n      <td>1</td>\n      <td>1</td>\n    </tr>\n    <tr>\n      <th>1</th>\n      <td>2</td>\n      <td>1</td>\n      <td>0</td>\n      <td>1</td>\n    </tr>\n    <tr>\n      <th>2</th>\n      <td>2</td>\n      <td>5</td>\n      <td>0</td>\n      <td>0</td>\n    </tr>\n    <tr>\n      <th>3</th>\n      <td>2</td>\n      <td>5</td>\n      <td>1</td>\n      <td>0</td>\n    </tr>\n    <tr>\n      <th>4</th>\n      <td>3</td>\n      <td>5</td>\n      <td>0</td>\n      <td>1</td>\n    </tr>\n    <tr>\n      <th>...</th>\n      <td>...</td>\n      <td>...</td>\n      <td>...</td>\n      <td>...</td>\n    </tr>\n    <tr>\n      <th>14075482</th>\n      <td>2703454</td>\n      <td>5</td>\n      <td>0</td>\n      <td>0</td>\n    </tr>\n    <tr>\n      <th>14075483</th>\n      <td>2703454</td>\n      <td>9</td>\n      <td>1</td>\n      <td>3</td>\n    </tr>\n    <tr>\n      <th>14075484</th>\n      <td>2703454</td>\n      <td>9</td>\n      <td>0</td>\n      <td>1</td>\n    </tr>\n    <tr>\n      <th>14075485</th>\n      <td>2703454</td>\n      <td>5</td>\n      <td>1</td>\n      <td>0</td>\n    </tr>\n    <tr>\n      <th>14075486</th>\n      <td>2703454</td>\n      <td>2</td>\n      <td>1</td>\n      <td>1</td>\n    </tr>\n  </tbody>\n</table>\n<p>14075487 rows × 4 columns</p>\n</div>"
     },
     "execution_count": 8,
     "metadata": {},
     "output_type": "execute_result"
    }
   ],
   "source": [
    "train_appl_prev_depth2"
   ],
   "metadata": {
    "collapsed": false,
    "ExecuteTime": {
     "end_time": "2024-02-09T20:41:24.263563700Z",
     "start_time": "2024-02-09T20:41:24.232368800Z"
    }
   }
  },
  {
   "cell_type": "code",
   "execution_count": 9,
   "outputs": [],
   "source": [
    "train_appl_prev_depth2.to_csv('./../home-credit-credit-risk-model-stability/normalized_csv/train/train_appl_prev_depth2.csv', index=True)"
   ],
   "metadata": {
    "collapsed": false,
    "ExecuteTime": {
     "end_time": "2024-02-09T20:41:42.234181400Z",
     "start_time": "2024-02-09T20:41:24.263563700Z"
    }
   }
  },
  {
   "cell_type": "code",
   "execution_count": null,
   "outputs": [],
   "source": [],
   "metadata": {
    "collapsed": false
   }
  }
 ],
 "metadata": {
  "kernelspec": {
   "display_name": "Python 3",
   "language": "python",
   "name": "python3"
  },
  "language_info": {
   "codemirror_mode": {
    "name": "ipython",
    "version": 2
   },
   "file_extension": ".py",
   "mimetype": "text/x-python",
   "name": "python",
   "nbconvert_exporter": "python",
   "pygments_lexer": "ipython2",
   "version": "2.7.6"
  }
 },
 "nbformat": 4,
 "nbformat_minor": 0
}
