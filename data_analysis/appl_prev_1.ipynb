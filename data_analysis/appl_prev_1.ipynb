{
 "cells": [
  {
   "cell_type": "code",
   "execution_count": 1,
   "metadata": {
    "collapsed": true,
    "ExecuteTime": {
     "end_time": "2024-02-11T16:43:58.990929100Z",
     "start_time": "2024-02-11T16:43:57.915092200Z"
    }
   },
   "outputs": [],
   "source": [
    "import pandas as pd\n",
    "import polars as pl\n",
    "import numpy as np\n",
    "import matplotlib.pyplot as plt\n",
    "ROOT_DIR = './../home-credit-credit-risk-model-stability/'"
   ]
  },
  {
   "cell_type": "code",
   "execution_count": 2,
   "outputs": [],
   "source": [
    "# Utils to format the tables\n",
    "def set_table_dtypes(df):\n",
    "    # implement here all desired dtypes for tables\n",
    "    # the following is just an example\n",
    "    for col in df.columns:\n",
    "        # last letter of column name will help you determine the type\n",
    "        if col[-1] in (\"P\", \"A\"):\n",
    "            df = df.with_columns(pl.col(col).cast(pl.Float64).alias(col))\n",
    "\n",
    "    return df\n",
    "\n",
    "def inspect_columns(df):\n",
    "    df = pd.DataFrame(df)\n",
    "    result = pd.DataFrame({\n",
    "        'unique': df.nunique() == len(df),\n",
    "        'cardinality': df.nunique(),\n",
    "        'with_null': df.isna().any(),\n",
    "        'null_pct': round((df.isnull().sum() / len(df)) * 100, 2),\n",
    "        '1st_row': df.iloc[0],\n",
    "        'random_row': df.iloc[np.random.randint(low=0, high=len(df))],\n",
    "        'last_row': df.iloc[-1],\n",
    "        'dtype': df.dtypes\n",
    "    })\n",
    "    return result"
   ],
   "metadata": {
    "collapsed": false,
    "ExecuteTime": {
     "end_time": "2024-02-11T16:43:59.006364800Z",
     "start_time": "2024-02-11T16:43:58.996912700Z"
    }
   }
  },
  {
   "cell_type": "code",
   "execution_count": 3,
   "outputs": [
    {
     "data": {
      "text/plain": "shape: (6_525_979, 41)\n┌─────────┬────────────┬───────────┬───────────┬───┬───────────┬───────────┬───────────┬───────────┐\n│ case_id ┆ actualdpd_ ┆ annuity_8 ┆ approvald ┆ … ┆ rejectrea ┆ revolving ┆ status_21 ┆ tenor_203 │\n│ ---     ┆ 943P       ┆ 53A       ┆ ate_319D  ┆   ┆ sonclient ┆ account_3 ┆ 9L        ┆ L         │\n│ i64     ┆ ---        ┆ ---       ┆ ---       ┆   ┆ _4145042M ┆ 94A       ┆ ---       ┆ ---       │\n│         ┆ f64        ┆ f64       ┆ str       ┆   ┆ ---       ┆ ---       ┆ str       ┆ f64       │\n│         ┆            ┆           ┆           ┆   ┆ str       ┆ f64       ┆           ┆           │\n╞═════════╪════════════╪═══════════╪═══════════╪═══╪═══════════╪═══════════╪═══════════╪═══════════╡\n│ 2       ┆ 0.0        ┆ 640.2     ┆ null      ┆ … ┆ a55475b1  ┆ null      ┆ D         ┆ 24.0      │\n│ 2       ┆ 0.0        ┆ 1682.4    ┆ null      ┆ … ┆ a55475b1  ┆ null      ┆ D         ┆ 12.0      │\n│ 3       ┆ 0.0        ┆ 6140.0    ┆ null      ┆ … ┆ a55475b1  ┆ null      ┆ D         ┆ 12.0      │\n│ 4       ┆ 0.0        ┆ 2556.6    ┆ null      ┆ … ┆ a55475b1  ┆ null      ┆ T         ┆ 24.0      │\n│ 5       ┆ 0.0        ┆ null      ┆ null      ┆ … ┆ a55475b1  ┆ null      ┆ T         ┆ null      │\n│ …       ┆ …          ┆ …         ┆ …         ┆ … ┆ …         ┆ …         ┆ …         ┆ …         │\n│ 2703453 ┆ 0.0        ┆ 927.8     ┆ 2014-01-2 ┆ … ┆ a55475b1  ┆ null      ┆ K         ┆ 18.0      │\n│         ┆            ┆           ┆ 2         ┆   ┆           ┆           ┆           ┆           │\n│ 2703453 ┆ 0.0        ┆ 266.80002 ┆ 2013-06-2 ┆ … ┆ a55475b1  ┆ null      ┆ K         ┆ 12.0      │\n│         ┆            ┆           ┆ 9         ┆   ┆           ┆           ┆           ┆           │\n│ 2703453 ┆ 0.0        ┆ 416.2     ┆ null      ┆ … ┆ a55475b1  ┆ null      ┆ D         ┆ 6.0       │\n│ 2703454 ┆ 0.0        ┆ 2986.8    ┆ 2020-06-2 ┆ … ┆ a55475b1  ┆ null      ┆ A         ┆ 6.0       │\n│         ┆            ┆           ┆ 1         ┆   ┆           ┆           ┆           ┆           │\n│ 2703454 ┆ 0.0        ┆ 6726.6    ┆ 2019-08-0 ┆ … ┆ a55475b1  ┆ null      ┆ K         ┆ 12.0      │\n│         ┆            ┆           ┆ 1         ┆   ┆           ┆           ┆           ┆           │\n└─────────┴────────────┴───────────┴───────────┴───┴───────────┴───────────┴───────────┴───────────┘",
      "text/html": "<div><style>\n.dataframe > thead > tr,\n.dataframe > tbody > tr {\n  text-align: right;\n  white-space: pre-wrap;\n}\n</style>\n<small>shape: (6_525_979, 41)</small><table border=\"1\" class=\"dataframe\"><thead><tr><th>case_id</th><th>actualdpd_943P</th><th>annuity_853A</th><th>approvaldate_319D</th><th>byoccupationinc_3656910L</th><th>cancelreason_3545846M</th><th>childnum_21L</th><th>creationdate_885D</th><th>credacc_actualbalance_314A</th><th>credacc_credlmt_575A</th><th>credacc_maxhisbal_375A</th><th>credacc_minhisbal_90A</th><th>credacc_status_367L</th><th>credacc_transactions_402L</th><th>credamount_590A</th><th>credtype_587L</th><th>currdebt_94A</th><th>dateactivated_425D</th><th>district_544M</th><th>downpmt_134A</th><th>dtlastpmt_581D</th><th>dtlastpmtallstes_3545839D</th><th>education_1138M</th><th>employedfrom_700D</th><th>familystate_726L</th><th>firstnonzeroinstldate_307D</th><th>inittransactioncode_279L</th><th>isbidproduct_390L</th><th>isdebitcard_527L</th><th>mainoccupationinc_437A</th><th>maxdpdtolerance_577P</th><th>num_group1</th><th>outstandingdebt_522A</th><th>pmtnum_8L</th><th>postype_4733339M</th><th>profession_152M</th><th>rejectreason_755M</th><th>rejectreasonclient_4145042M</th><th>revolvingaccount_394A</th><th>status_219L</th><th>tenor_203L</th></tr><tr><td>i64</td><td>f64</td><td>f64</td><td>str</td><td>f64</td><td>str</td><td>f64</td><td>str</td><td>f64</td><td>f64</td><td>f64</td><td>f64</td><td>str</td><td>f64</td><td>f64</td><td>str</td><td>f64</td><td>str</td><td>str</td><td>f64</td><td>str</td><td>str</td><td>str</td><td>str</td><td>str</td><td>str</td><td>str</td><td>bool</td><td>bool</td><td>f64</td><td>f64</td><td>i64</td><td>f64</td><td>f64</td><td>str</td><td>str</td><td>str</td><td>str</td><td>f64</td><td>str</td><td>f64</td></tr></thead><tbody><tr><td>2</td><td>0.0</td><td>640.2</td><td>null</td><td>null</td><td>&quot;a55475b1&quot;</td><td>0.0</td><td>&quot;2013-04-03&quot;</td><td>null</td><td>0.0</td><td>null</td><td>null</td><td>null</td><td>null</td><td>10000.0</td><td>&quot;CAL&quot;</td><td>null</td><td>null</td><td>&quot;P136_108_173&quot;</td><td>0.0</td><td>null</td><td>null</td><td>&quot;P97_36_170&quot;</td><td>&quot;2010-02-15&quot;</td><td>&quot;SINGLE&quot;</td><td>&quot;2013-05-04&quot;</td><td>&quot;CASH&quot;</td><td>false</td><td>null</td><td>8200.0</td><td>null</td><td>0</td><td>null</td><td>24.0</td><td>&quot;a55475b1&quot;</td><td>&quot;a55475b1&quot;</td><td>&quot;a55475b1&quot;</td><td>&quot;a55475b1&quot;</td><td>null</td><td>&quot;D&quot;</td><td>24.0</td></tr><tr><td>2</td><td>0.0</td><td>1682.4</td><td>null</td><td>null</td><td>&quot;a55475b1&quot;</td><td>0.0</td><td>&quot;2013-04-03&quot;</td><td>null</td><td>0.0</td><td>null</td><td>null</td><td>null</td><td>null</td><td>16000.0</td><td>&quot;CAL&quot;</td><td>null</td><td>null</td><td>&quot;P136_108_173&quot;</td><td>0.0</td><td>null</td><td>null</td><td>&quot;P97_36_170&quot;</td><td>&quot;2010-02-15&quot;</td><td>&quot;SINGLE&quot;</td><td>&quot;2013-05-04&quot;</td><td>&quot;CASH&quot;</td><td>false</td><td>null</td><td>8200.0</td><td>null</td><td>1</td><td>null</td><td>12.0</td><td>&quot;a55475b1&quot;</td><td>&quot;a55475b1&quot;</td><td>&quot;a55475b1&quot;</td><td>&quot;a55475b1&quot;</td><td>null</td><td>&quot;D&quot;</td><td>12.0</td></tr><tr><td>3</td><td>0.0</td><td>6140.0</td><td>null</td><td>null</td><td>&quot;P94_109_143&quot;</td><td>null</td><td>&quot;2019-01-07&quot;</td><td>null</td><td>0.0</td><td>null</td><td>null</td><td>null</td><td>null</td><td>59999.8</td><td>&quot;CAL&quot;</td><td>null</td><td>null</td><td>&quot;P131_33_167&quot;</td><td>0.0</td><td>null</td><td>null</td><td>&quot;P97_36_170&quot;</td><td>&quot;2018-05-15&quot;</td><td>&quot;MARRIED&quot;</td><td>&quot;2019-02-07&quot;</td><td>&quot;CASH&quot;</td><td>false</td><td>null</td><td>11000.0</td><td>null</td><td>0</td><td>null</td><td>12.0</td><td>&quot;a55475b1&quot;</td><td>&quot;a55475b1&quot;</td><td>&quot;P94_109_143&quot;</td><td>&quot;a55475b1&quot;</td><td>null</td><td>&quot;D&quot;</td><td>12.0</td></tr><tr><td>4</td><td>0.0</td><td>2556.6</td><td>null</td><td>null</td><td>&quot;P24_27_36&quot;</td><td>null</td><td>&quot;2019-01-08&quot;</td><td>null</td><td>0.0</td><td>null</td><td>null</td><td>null</td><td>null</td><td>40000.0</td><td>&quot;CAL&quot;</td><td>null</td><td>null</td><td>&quot;P194_82_174&quot;</td><td>0.0</td><td>null</td><td>null</td><td>&quot;a55475b1&quot;</td><td>null</td><td>null</td><td>&quot;2019-02-08&quot;</td><td>&quot;CASH&quot;</td><td>false</td><td>null</td><td>16000.0</td><td>null</td><td>0</td><td>null</td><td>24.0</td><td>&quot;a55475b1&quot;</td><td>&quot;a55475b1&quot;</td><td>&quot;a55475b1&quot;</td><td>&quot;a55475b1&quot;</td><td>null</td><td>&quot;T&quot;</td><td>24.0</td></tr><tr><td>5</td><td>0.0</td><td>null</td><td>null</td><td>null</td><td>&quot;P85_114_140&quot;</td><td>null</td><td>&quot;2019-01-16&quot;</td><td>null</td><td>null</td><td>null</td><td>null</td><td>null</td><td>null</td><td>null</td><td>null</td><td>null</td><td>null</td><td>&quot;P54_133_26&quot;</td><td>null</td><td>null</td><td>null</td><td>&quot;a55475b1&quot;</td><td>null</td><td>null</td><td>null</td><td>null</td><td>false</td><td>null</td><td>62000.0</td><td>null</td><td>0</td><td>null</td><td>null</td><td>&quot;a55475b1&quot;</td><td>&quot;a55475b1&quot;</td><td>&quot;a55475b1&quot;</td><td>&quot;a55475b1&quot;</td><td>null</td><td>&quot;T&quot;</td><td>null</td></tr><tr><td>6</td><td>0.0</td><td>1773.8</td><td>null</td><td>null</td><td>&quot;P94_109_143&quot;</td><td>null</td><td>&quot;2018-09-12&quot;</td><td>null</td><td>0.0</td><td>null</td><td>null</td><td>null</td><td>null</td><td>15980.0</td><td>&quot;CAL&quot;</td><td>null</td><td>null</td><td>&quot;P82_154_182&quot;</td><td>0.0</td><td>null</td><td>null</td><td>&quot;a55475b1&quot;</td><td>null</td><td>null</td><td>&quot;2018-10-12&quot;</td><td>&quot;CASH&quot;</td><td>false</td><td>null</td><td>37000.0</td><td>null</td><td>0</td><td>null</td><td>11.0</td><td>&quot;a55475b1&quot;</td><td>&quot;a55475b1&quot;</td><td>&quot;P94_109_143&quot;</td><td>&quot;a55475b1&quot;</td><td>null</td><td>&quot;D&quot;</td><td>11.0</td></tr><tr><td>6</td><td>0.0</td><td>4189.6</td><td>null</td><td>null</td><td>&quot;P94_109_143&quot;</td><td>0.0</td><td>&quot;2017-12-28&quot;</td><td>null</td><td>0.0</td><td>null</td><td>null</td><td>null</td><td>null</td><td>32000.0</td><td>&quot;CAL&quot;</td><td>null</td><td>null</td><td>&quot;P82_154_182&quot;</td><td>0.0</td><td>null</td><td>null</td><td>&quot;P97_36_170&quot;</td><td>&quot;2013-09-15&quot;</td><td>&quot;SINGLE&quot;</td><td>&quot;2018-01-28&quot;</td><td>&quot;CASH&quot;</td><td>false</td><td>null</td><td>35000.0</td><td>null</td><td>1</td><td>null</td><td>11.0</td><td>&quot;a55475b1&quot;</td><td>&quot;a55475b1&quot;</td><td>&quot;P94_109_143&quot;</td><td>&quot;a55475b1&quot;</td><td>null</td><td>&quot;D&quot;</td><td>11.0</td></tr><tr><td>6</td><td>0.0</td><td>1110.4</td><td>null</td><td>1.0</td><td>&quot;a55475b1&quot;</td><td>0.0</td><td>&quot;2014-11-18&quot;</td><td>null</td><td>0.0</td><td>null</td><td>null</td><td>null</td><td>null</td><td>17380.0</td><td>&quot;COL&quot;</td><td>0.0</td><td>null</td><td>&quot;a55475b1&quot;</td><td>0.0</td><td>null</td><td>null</td><td>&quot;P97_36_170&quot;</td><td>&quot;2012-09-15&quot;</td><td>&quot;SINGLE&quot;</td><td>&quot;2014-12-18&quot;</td><td>&quot;POS&quot;</td><td>false</td><td>null</td><td>14000.0</td><td>null</td><td>2</td><td>0.0</td><td>24.0</td><td>&quot;a55475b1&quot;</td><td>&quot;a55475b1&quot;</td><td>&quot;a55475b1&quot;</td><td>&quot;a55475b1&quot;</td><td>null</td><td>&quot;D&quot;</td><td>24.0</td></tr><tr><td>10</td><td>0.0</td><td>10916.601</td><td>&quot;2019-01-11&quot;</td><td>null</td><td>&quot;P73_130_169&quot;</td><td>null</td><td>&quot;2019-01-11&quot;</td><td>null</td><td>0.0</td><td>null</td><td>null</td><td>null</td><td>null</td><td>100000.0</td><td>&quot;CAL&quot;</td><td>null</td><td>null</td><td>&quot;P38_65_49&quot;</td><td>0.0</td><td>null</td><td>null</td><td>&quot;P17_36_170&quot;</td><td>null</td><td>&quot;MARRIED&quot;</td><td>&quot;2019-02-11&quot;</td><td>&quot;CASH&quot;</td><td>false</td><td>null</td><td>57000.0</td><td>null</td><td>0</td><td>null</td><td>12.0</td><td>&quot;a55475b1&quot;</td><td>&quot;a55475b1&quot;</td><td>&quot;a55475b1&quot;</td><td>&quot;a55475b1&quot;</td><td>null</td><td>&quot;T&quot;</td><td>12.0</td></tr><tr><td>13</td><td>0.0</td><td>5069.6</td><td>null</td><td>null</td><td>&quot;P94_109_143&quot;</td><td>null</td><td>&quot;2018-08-20&quot;</td><td>null</td><td>0.0</td><td>null</td><td>null</td><td>null</td><td>null</td><td>40000.0</td><td>&quot;CAL&quot;</td><td>null</td><td>null</td><td>&quot;P120_80_181&quot;</td><td>0.0</td><td>null</td><td>null</td><td>&quot;a55475b1&quot;</td><td>null</td><td>null</td><td>&quot;2018-09-20&quot;</td><td>&quot;CASH&quot;</td><td>false</td><td>null</td><td>64000.0</td><td>null</td><td>0</td><td>null</td><td>12.0</td><td>&quot;a55475b1&quot;</td><td>&quot;a55475b1&quot;</td><td>&quot;P94_109_143&quot;</td><td>&quot;a55475b1&quot;</td><td>null</td><td>&quot;D&quot;</td><td>12.0</td></tr><tr><td>13</td><td>0.0</td><td>5334.8003</td><td>null</td><td>null</td><td>&quot;P94_109_143&quot;</td><td>null</td><td>&quot;2017-08-22&quot;</td><td>null</td><td>0.0</td><td>null</td><td>null</td><td>null</td><td>null</td><td>40000.0</td><td>&quot;CAL&quot;</td><td>null</td><td>null</td><td>&quot;P120_80_181&quot;</td><td>0.0</td><td>null</td><td>null</td><td>&quot;a55475b1&quot;</td><td>null</td><td>null</td><td>&quot;2017-09-22&quot;</td><td>&quot;CASH&quot;</td><td>false</td><td>null</td><td>64000.0</td><td>null</td><td>1</td><td>null</td><td>12.0</td><td>&quot;a55475b1&quot;</td><td>&quot;a55475b1&quot;</td><td>&quot;P94_109_143&quot;</td><td>&quot;a55475b1&quot;</td><td>null</td><td>&quot;D&quot;</td><td>12.0</td></tr><tr><td>13</td><td>0.0</td><td>1603.8</td><td>null</td><td>null</td><td>&quot;a55475b1&quot;</td><td>2.0</td><td>&quot;2007-04-16&quot;</td><td>null</td><td>0.0</td><td>null</td><td>null</td><td>null</td><td>null</td><td>19800.0</td><td>&quot;COL&quot;</td><td>null</td><td>null</td><td>&quot;P120_80_181&quot;</td><td>720.0</td><td>null</td><td>null</td><td>&quot;P97_36_170&quot;</td><td>&quot;2002-03-15&quot;</td><td>&quot;MARRIED&quot;</td><td>&quot;2007-05-16&quot;</td><td>&quot;POS&quot;</td><td>false</td><td>null</td><td>5000.0</td><td>null</td><td>2</td><td>null</td><td>18.0</td><td>&quot;a55475b1&quot;</td><td>&quot;a55475b1&quot;</td><td>&quot;a55475b1&quot;</td><td>&quot;a55475b1&quot;</td><td>null</td><td>&quot;D&quot;</td><td>18.0</td></tr><tr><td>&hellip;</td><td>&hellip;</td><td>&hellip;</td><td>&hellip;</td><td>&hellip;</td><td>&hellip;</td><td>&hellip;</td><td>&hellip;</td><td>&hellip;</td><td>&hellip;</td><td>&hellip;</td><td>&hellip;</td><td>&hellip;</td><td>&hellip;</td><td>&hellip;</td><td>&hellip;</td><td>&hellip;</td><td>&hellip;</td><td>&hellip;</td><td>&hellip;</td><td>&hellip;</td><td>&hellip;</td><td>&hellip;</td><td>&hellip;</td><td>&hellip;</td><td>&hellip;</td><td>&hellip;</td><td>&hellip;</td><td>&hellip;</td><td>&hellip;</td><td>&hellip;</td><td>&hellip;</td><td>&hellip;</td><td>&hellip;</td><td>&hellip;</td><td>&hellip;</td><td>&hellip;</td><td>&hellip;</td><td>&hellip;</td><td>&hellip;</td><td>&hellip;</td></tr><tr><td>2703452</td><td>0.0</td><td>3243.4001</td><td>&quot;2018-09-16&quot;</td><td>null</td><td>&quot;a55475b1&quot;</td><td>null</td><td>&quot;2018-09-16&quot;</td><td>null</td><td>0.0</td><td>null</td><td>null</td><td>null</td><td>null</td><td>15698.0</td><td>&quot;COL&quot;</td><td>0.0</td><td>&quot;2018-09-24&quot;</td><td>&quot;P133_44_167&quot;</td><td>0.0</td><td>&quot;2019-03-19&quot;</td><td>&quot;2019-03-19&quot;</td><td>&quot;P97_36_170&quot;</td><td>&quot;2018-02-01&quot;</td><td>&quot;MARRIED&quot;</td><td>&quot;2018-10-16&quot;</td><td>&quot;POS&quot;</td><td>false</td><td>null</td><td>30000.0</td><td>1.0</td><td>2</td><td>0.0</td><td>6.0</td><td>&quot;P177_117_192&quot;</td><td>&quot;a55475b1&quot;</td><td>&quot;a55475b1&quot;</td><td>&quot;a55475b1&quot;</td><td>null</td><td>&quot;K&quot;</td><td>6.0</td></tr><tr><td>2703453</td><td>0.0</td><td>0.0</td><td>&quot;2019-12-18&quot;</td><td>null</td><td>&quot;a55475b1&quot;</td><td>null</td><td>&quot;2019-12-18&quot;</td><td>null</td><td>0.0</td><td>null</td><td>null</td><td>null</td><td>null</td><td>0.0</td><td>&quot;REL&quot;</td><td>0.0</td><td>&quot;2019-12-23&quot;</td><td>&quot;P123_6_84&quot;</td><td>0.0</td><td>null</td><td>&quot;2020-10-09&quot;</td><td>&quot;a55475b1&quot;</td><td>null</td><td>null</td><td>null</td><td>&quot;NDF&quot;</td><td>false</td><td>true</td><td>null</td><td>0.0</td><td>0</td><td>0.0</td><td>null</td><td>&quot;P46_145_78&quot;</td><td>&quot;a55475b1&quot;</td><td>&quot;a55475b1&quot;</td><td>&quot;a55475b1&quot;</td><td>7.808259e8</td><td>&quot;A&quot;</td><td>null</td></tr><tr><td>2703453</td><td>0.0</td><td>2827.2</td><td>&quot;2019-12-18&quot;</td><td>null</td><td>&quot;a55475b1&quot;</td><td>null</td><td>&quot;2019-12-18&quot;</td><td>null</td><td>0.0</td><td>null</td><td>null</td><td>null</td><td>null</td><td>40000.0</td><td>&quot;CAL&quot;</td><td>34550.855</td><td>&quot;2019-12-23&quot;</td><td>&quot;P123_6_84&quot;</td><td>0.0</td><td>null</td><td>&quot;2020-10-09&quot;</td><td>&quot;a55475b1&quot;</td><td>null</td><td>null</td><td>&quot;2020-01-18&quot;</td><td>&quot;CASH&quot;</td><td>false</td><td>null</td><td>50000.0</td><td>0.0</td><td>1</td><td>46806.6</td><td>30.0</td><td>&quot;P46_145_78&quot;</td><td>&quot;a55475b1&quot;</td><td>&quot;a55475b1&quot;</td><td>&quot;a55475b1&quot;</td><td>null</td><td>&quot;A&quot;</td><td>30.0</td></tr><tr><td>2703453</td><td>0.0</td><td>5981.4</td><td>&quot;2018-11-14&quot;</td><td>null</td><td>&quot;a55475b1&quot;</td><td>null</td><td>&quot;2018-11-14&quot;</td><td>null</td><td>0.0</td><td>null</td><td>null</td><td>null</td><td>null</td><td>123800.0</td><td>&quot;CAL&quot;</td><td>0.0</td><td>&quot;2018-11-15&quot;</td><td>&quot;P123_6_84&quot;</td><td>0.0</td><td>&quot;2019-12-17&quot;</td><td>&quot;2019-12-17&quot;</td><td>&quot;a55475b1&quot;</td><td>null</td><td>null</td><td>&quot;2018-12-15&quot;</td><td>&quot;CASH&quot;</td><td>false</td><td>null</td><td>76000.0</td><td>0.0</td><td>2</td><td>0.0</td><td>30.0</td><td>&quot;P177_117_192&quot;</td><td>&quot;a55475b1&quot;</td><td>&quot;a55475b1&quot;</td><td>&quot;a55475b1&quot;</td><td>null</td><td>&quot;K&quot;</td><td>30.0</td></tr><tr><td>2703453</td><td>0.0</td><td>1292.8</td><td>&quot;2017-12-26&quot;</td><td>null</td><td>&quot;a55475b1&quot;</td><td>null</td><td>&quot;2017-12-26&quot;</td><td>null</td><td>0.0</td><td>null</td><td>null</td><td>null</td><td>null</td><td>8898.0</td><td>&quot;COL&quot;</td><td>0.0</td><td>&quot;2018-01-08&quot;</td><td>&quot;P123_6_84&quot;</td><td>0.0</td><td>&quot;2018-09-21&quot;</td><td>&quot;2018-09-21&quot;</td><td>&quot;a55475b1&quot;</td><td>null</td><td>&quot;MARRIED&quot;</td><td>&quot;2018-01-26&quot;</td><td>&quot;POS&quot;</td><td>false</td><td>null</td><td>70000.0</td><td>0.0</td><td>3</td><td>0.0</td><td>9.0</td><td>&quot;P177_117_192&quot;</td><td>&quot;a55475b1&quot;</td><td>&quot;a55475b1&quot;</td><td>&quot;a55475b1&quot;</td><td>null</td><td>&quot;K&quot;</td><td>9.0</td></tr><tr><td>2703453</td><td>0.0</td><td>1203.4</td><td>&quot;2016-12-11&quot;</td><td>null</td><td>&quot;a55475b1&quot;</td><td>null</td><td>&quot;2016-12-11&quot;</td><td>null</td><td>0.0</td><td>null</td><td>null</td><td>null</td><td>null</td><td>9596.0</td><td>&quot;COL&quot;</td><td>0.0</td><td>&quot;2016-12-14&quot;</td><td>&quot;P123_6_84&quot;</td><td>0.0</td><td>&quot;2017-11-10&quot;</td><td>&quot;2017-11-10&quot;</td><td>&quot;a55475b1&quot;</td><td>null</td><td>&quot;MARRIED&quot;</td><td>&quot;2017-01-10&quot;</td><td>&quot;POS&quot;</td><td>false</td><td>null</td><td>40000.0</td><td>0.0</td><td>4</td><td>0.0</td><td>12.0</td><td>&quot;P177_117_192&quot;</td><td>&quot;a55475b1&quot;</td><td>&quot;a55475b1&quot;</td><td>&quot;a55475b1&quot;</td><td>null</td><td>&quot;K&quot;</td><td>12.0</td></tr><tr><td>2703453</td><td>0.0</td><td>3197.6</td><td>&quot;2014-08-15&quot;</td><td>33059.0</td><td>&quot;a55475b1&quot;</td><td>0.0</td><td>&quot;2014-08-15&quot;</td><td>179.424</td><td>0.0</td><td>398.02402</td><td>198.024</td><td>&quot;AC&quot;</td><td>14.0</td><td>60000.0</td><td>&quot;CAL&quot;</td><td>0.0</td><td>&quot;2014-08-15&quot;</td><td>&quot;P123_6_84&quot;</td><td>0.0</td><td>&quot;2018-08-07&quot;</td><td>&quot;2018-08-07&quot;</td><td>&quot;P97_36_170&quot;</td><td>null</td><td>&quot;MARRIED&quot;</td><td>&quot;2014-09-15&quot;</td><td>&quot;CASH&quot;</td><td>false</td><td>null</td><td>28000.0</td><td>33.0</td><td>5</td><td>0.0</td><td>48.0</td><td>&quot;P177_117_192&quot;</td><td>&quot;a55475b1&quot;</td><td>&quot;a55475b1&quot;</td><td>&quot;a55475b1&quot;</td><td>null</td><td>&quot;K&quot;</td><td>48.0</td></tr><tr><td>2703453</td><td>0.0</td><td>927.8</td><td>&quot;2014-01-22&quot;</td><td>null</td><td>&quot;a55475b1&quot;</td><td>0.0</td><td>&quot;2014-01-22&quot;</td><td>null</td><td>0.0</td><td>null</td><td>null</td><td>null</td><td>null</td><td>10000.0</td><td>&quot;CAL&quot;</td><td>0.0</td><td>&quot;2014-01-23&quot;</td><td>&quot;P123_6_84&quot;</td><td>0.0</td><td>null</td><td>null</td><td>&quot;P97_36_170&quot;</td><td>null</td><td>&quot;MARRIED&quot;</td><td>&quot;2014-02-22&quot;</td><td>&quot;CASH&quot;</td><td>false</td><td>null</td><td>7000.0</td><td>7.0</td><td>6</td><td>0.0</td><td>18.0</td><td>&quot;P177_117_192&quot;</td><td>&quot;a55475b1&quot;</td><td>&quot;a55475b1&quot;</td><td>&quot;a55475b1&quot;</td><td>null</td><td>&quot;K&quot;</td><td>18.0</td></tr><tr><td>2703453</td><td>0.0</td><td>266.80002</td><td>&quot;2013-06-29&quot;</td><td>null</td><td>&quot;a55475b1&quot;</td><td>0.0</td><td>&quot;2013-06-29&quot;</td><td>null</td><td>0.0</td><td>null</td><td>null</td><td>null</td><td>null</td><td>2198.0</td><td>&quot;COL&quot;</td><td>0.0</td><td>&quot;2013-07-02&quot;</td><td>&quot;P123_6_84&quot;</td><td>0.0</td><td>null</td><td>null</td><td>&quot;P97_36_170&quot;</td><td>null</td><td>&quot;MARRIED&quot;</td><td>&quot;2013-07-29&quot;</td><td>&quot;POS&quot;</td><td>false</td><td>null</td><td>7000.0</td><td>0.0</td><td>7</td><td>0.0</td><td>12.0</td><td>&quot;P177_117_192&quot;</td><td>&quot;a55475b1&quot;</td><td>&quot;a55475b1&quot;</td><td>&quot;a55475b1&quot;</td><td>null</td><td>&quot;K&quot;</td><td>12.0</td></tr><tr><td>2703453</td><td>0.0</td><td>416.2</td><td>null</td><td>null</td><td>&quot;a55475b1&quot;</td><td>0.0</td><td>&quot;2013-06-29&quot;</td><td>null</td><td>0.0</td><td>null</td><td>null</td><td>null</td><td>null</td><td>2198.0</td><td>&quot;COL&quot;</td><td>0.0</td><td>null</td><td>&quot;P123_6_84&quot;</td><td>0.0</td><td>null</td><td>null</td><td>&quot;P97_36_170&quot;</td><td>null</td><td>&quot;MARRIED&quot;</td><td>&quot;2013-07-29&quot;</td><td>&quot;POS&quot;</td><td>false</td><td>null</td><td>7000.0</td><td>null</td><td>8</td><td>0.0</td><td>6.0</td><td>&quot;P177_117_192&quot;</td><td>&quot;a55475b1&quot;</td><td>&quot;a55475b1&quot;</td><td>&quot;a55475b1&quot;</td><td>null</td><td>&quot;D&quot;</td><td>6.0</td></tr><tr><td>2703454</td><td>0.0</td><td>2986.8</td><td>&quot;2020-06-21&quot;</td><td>null</td><td>&quot;a55475b1&quot;</td><td>null</td><td>&quot;2020-06-21&quot;</td><td>null</td><td>0.0</td><td>null</td><td>null</td><td>null</td><td>null</td><td>15998.0</td><td>&quot;COL&quot;</td><td>5631.406</td><td>&quot;2020-06-23&quot;</td><td>&quot;P48_127_19&quot;</td><td>0.0</td><td>null</td><td>&quot;2020-10-19&quot;</td><td>&quot;a55475b1&quot;</td><td>null</td><td>null</td><td>&quot;2020-07-21&quot;</td><td>&quot;POS&quot;</td><td>false</td><td>null</td><td>24000.0</td><td>0.0</td><td>0</td><td>5919.2</td><td>6.0</td><td>&quot;P177_117_192&quot;</td><td>&quot;a55475b1&quot;</td><td>&quot;a55475b1&quot;</td><td>&quot;a55475b1&quot;</td><td>null</td><td>&quot;A&quot;</td><td>6.0</td></tr><tr><td>2703454</td><td>0.0</td><td>6726.6</td><td>&quot;2019-08-01&quot;</td><td>null</td><td>&quot;a55475b1&quot;</td><td>null</td><td>&quot;2019-08-01&quot;</td><td>null</td><td>0.0</td><td>null</td><td>null</td><td>null</td><td>null</td><td>60000.0</td><td>&quot;CAL&quot;</td><td>0.0</td><td>&quot;2019-08-20&quot;</td><td>&quot;P48_127_19&quot;</td><td>0.0</td><td>&quot;2020-08-02&quot;</td><td>&quot;2020-08-02&quot;</td><td>&quot;P97_36_170&quot;</td><td>null</td><td>&quot;WIDOWED&quot;</td><td>&quot;2019-09-01&quot;</td><td>&quot;CASH&quot;</td><td>false</td><td>null</td><td>60000.0</td><td>0.0</td><td>1</td><td>0.0</td><td>12.0</td><td>&quot;P46_145_78&quot;</td><td>&quot;a55475b1&quot;</td><td>&quot;a55475b1&quot;</td><td>&quot;a55475b1&quot;</td><td>null</td><td>&quot;K&quot;</td><td>12.0</td></tr></tbody></table></div>"
     },
     "execution_count": 3,
     "metadata": {},
     "output_type": "execute_result"
    }
   ],
   "source": [
    "train_appl_prev_depth1 = pl.concat(\n",
    "    [\n",
    "        pl.read_csv(ROOT_DIR + \"csv_files/train/train_applprev_1_0.csv\").pipe(set_table_dtypes),\n",
    "        pl.read_csv(ROOT_DIR + \"csv_files/train/train_applprev_1_1.csv\").pipe(set_table_dtypes),\n",
    "    ],\n",
    "    how=\"vertical_relaxed\",\n",
    ")\n",
    "train_appl_prev_depth1"
   ],
   "metadata": {
    "collapsed": false,
    "ExecuteTime": {
     "end_time": "2024-02-11T16:44:04.004799300Z",
     "start_time": "2024-02-11T16:44:00.085251800Z"
    }
   }
  },
  {
   "cell_type": "code",
   "execution_count": null,
   "outputs": [],
   "source": [],
   "metadata": {
    "collapsed": false,
    "is_executing": true,
    "ExecuteTime": {
     "start_time": "2024-02-11T16:42:34.215870Z"
    }
   }
  },
  {
   "cell_type": "code",
   "execution_count": 5,
   "outputs": [
    {
     "data": {
      "text/plain": "<Figure size 640x480 with 1 Axes>",
      "image/png": "[encoded data removed]"
     },
     "metadata": {},
     "output_type": "display_data"
    }
   ],
   "source": [
    "plt.plot(train_appl_prev_depth1['actualdpd_943P'])\n",
    "plt.show()\n"
   ],
   "metadata": {
    "collapsed": false,
    "ExecuteTime": {
     "end_time": "2024-02-11T16:44:16.542479400Z",
     "start_time": "2024-02-11T16:44:15.928955200Z"
    }
   }
  },
  {
   "cell_type": "code",
   "execution_count": null,
   "outputs": [],
   "source": [
    "print(train_appl_prev_depth1['annuity_853A'].min())"
   ],
   "metadata": {
    "collapsed": false,
    "is_executing": true
   }
  },
  {
   "cell_type": "code",
   "execution_count": null,
   "outputs": [],
   "source": [],
   "metadata": {
    "collapsed": false
   }
  },
  {
   "cell_type": "code",
   "execution_count": 1,
   "outputs": [
    {
     "ename": "SyntaxError",
     "evalue": "positional argument follows keyword argument (3886757156.py, line 112)",
     "output_type": "error",
     "traceback": [
      "\u001B[1;36m  Cell \u001B[1;32mIn[1], line 112\u001B[1;36m\u001B[0m\n\u001B[1;33m    )\u001B[0m\n\u001B[1;37m    ^\u001B[0m\n\u001B[1;31mSyntaxError\u001B[0m\u001B[1;31m:\u001B[0m positional argument follows keyword argument\n"
     ]
    }
   ],
   "source": [
    "!pip install polars\n",
    "import pandas as pd\n",
    "import polars as pl\n",
    "import numpy as np\n",
    "from sklearn.model_selection import train_test_split\n",
    "from sklearn.metrics import roc_auc_score\n",
    "import matplotlib.pyplot as plt\n",
    "import seaborn as sns\n",
    "import statistics\n",
    "\n",
    "\n",
    "def plot_distribution(\n",
    "    column,\n",
    "\n",
    "    dataframe = df,\n",
    "    bins='auto',\n",
    "    histplot = True,\n",
    "    kdeplot = False,\n",
    "    scatterplot = False,\n",
    "    scatter_plot_x = False,\n",
    "    scatter_plot_y = False,\n",
    "\n",
    "    is_categorical = False,\n",
    "    countplot = True,\n",
    "    pieplot = False,\n",
    "    groupby = False,\n",
    "    numeric_column_to_compare = False,\n",
    "    categorical_column_to_compare = False,\n",
    "\n",
    "    title=None,\n",
    "    xlabel=None,\n",
    "    ylabel=None,\n",
    "\n",
    "\n",
    "    show_mean = False,\n",
    "    show_median = False,\n",
    "    show_mode = False,\n",
    "\n",
    "    total_num = True,\n",
    "    total_nan = True,\n",
    "    count_zeros = True,\n",
    "    total_non_nan_values = True,\n",
    "    percentage_zeros = True,\n",
    "    drop_invalid=True,\n",
    "    describe=True\n",
    "):\n",
    "    \"\"\"\n",
    "    Plot the distribution of a column in a DataFrame.\n",
    "\n",
    "    Parameters:\n",
    "    - dataframe: pandas.DataFrame\n",
    "    - column: str, the column name to plot\n",
    "    - bins: int or 'auto', the number of bins for continuous data or 'auto' for automatic binning\n",
    "    \"\"\"\n",
    "\n",
    "    # Check if the column exists in the DataFrame\n",
    "    if column not in dataframe.columns:\n",
    "        print(f\"Error: Column '{column}' not found in the DataFrame.\")\n",
    "        return\n",
    "\n",
    "    # Drop NaNs or empties if specified\n",
    "    if drop_invalid:\n",
    "        dataframe = dataframe.dropna(subset=[column])\n",
    "\n",
    "\n",
    "    plt.figure(figsize=(10, 6))\n",
    "\n",
    "    if is_categorical:\n",
    "        if countplot:\n",
    "            sns.countplot(x=dataframe[column], data=dataframe)\n",
    "            plt.title(f'Distribution of {column} - Categorical')\n",
    "            plt.ylabel('Frequency')\n",
    "            plt.xlabel(column)\n",
    "            plt.show()\n",
    "        if pieplot:\n",
    "            dataframe[column].value_counts().plot.pie(autopct='%1.1f%%')\n",
    "            plt.axis('equal')  # Equal aspect ratio ensures that pie is drawn as a circle.\n",
    "            plt.show()\n",
    "\n",
    "        if groupby:\n",
    "            if numeric_column_to_compare:\n",
    "                dataframe.groupby(column)[numeric_column_to_compare].mean().plot(kind='bar')\n",
    "                plt.show()\n",
    "            elif categorical_column_to_compare:\n",
    "                # Your existing code\n",
    "                sns.countplot(x=categorical_column_to_compare, hue=column, data=dataframe)\n",
    "                # Adding x and y labels\n",
    "                plt.xlabel('Credit Account Actual Balance')  # Replace with the actual label for the x-axis\n",
    "                plt.ylabel('Count')  # Replace with the actual label for the y-axis\n",
    "                plt.show()\n",
    "\n",
    "    else:\n",
    "        mean = dataframe[column].mean()\n",
    "        median = dataframe[column].median()\n",
    "        mode_value = statistics.mode(dataframe[column])\n",
    "\n",
    "        if histplot:\n",
    "            sns.histplot(dataframe[column], bins=bins, kde=kdeplot)\n",
    "            plt.title(title or f'Distribution of {column}')\n",
    "            plt.xlabel(xlabel or f'{column} values')\n",
    "            plt.ylabel(ylabel or 'Frequency')\n",
    "            plt.ylim(0, 10000)\n",
    "            plt.xlim(-110000, 110000)\n",
    "\n",
    "            if show_mean: plt.axvline(mean, color='red', linestyle='dashed', label='Mean')\n",
    "            if show_median: plt.axvline(median, color='green', linestyle='dashed', label='Median')\n",
    "            if show_mode: plt.axvline(mode_value, color='blue', linestyle='dashed', label='Mode')\n",
    "            plt.legend()\n",
    "            plt.show()\n",
    "        if kdeplot:\n",
    "            sns.kdeplot(dataframe[column])\n",
    "            plt.xlabel(xlabel or f'{column} values')\n",
    "            plt.ylabel(ylabel or 'Frequency')\n",
    "            plt.ylim(0, 10000)\n",
    "            plt.xlim(-110000, 110000)\n",
    "            if show_mean: plt.axvline(mean, color='red', linestyle='dashed', label='Mean')\n",
    "            if show_median: plt.axvline(median, color='green', linestyle='dashed', label='Median')\n",
    "            if show_mode: plt.axvline(mode_value, color='blue', linestyle='dashed', label='Mode')\n",
    "            plt.legend()\n",
    "            plt.show()\n",
    "\n",
    "        if scatterplot:\n",
    "            sns.set_palette(\"husl\")\n",
    "            sns.set_theme(style=\"whitegrid\")\n",
    "            scatter_plot = sns.scatterplot(x=scatter_plot_x, y=scatter_plot_y,  data=dataframe, palette=\"viridis\", alpha=0.7)\n",
    "\n",
    "            scatter_plot.set(\n",
    "                xlabel=xlabel or f'{column} values',\n",
    "                ylabel=ylabel or 'Frequency',\n",
    "                title=title or f'Distribution of {column}'\n",
    "            )\n",
    "            scatter_plot.legend()\n",
    "            scatter_plot.grid(True, linestyle='--', alpha=0.7)\n",
    "            sns.regplot(x=scatter_plot_x, y=scatter_plot_y, data=dataframe, scatter=False, ax=scatter_plot)\n",
    "            plt.show()\n",
    "\n",
    "    nzeros = (dataframe[column] == 0).sum()\n",
    "    ntotalnonnan= dataframe[column].notna().sum()\n",
    "    if total_num and not describe: print('Total: ', dataframe[column].shape[0])\n",
    "    if total_non_nan_values: print('Total non zero value: ', ntotalnonnan)\n",
    "    if total_nan: print('Missed values num. ',  dataframe[column].isnull().sum())\n",
    "    if count_zeros and not is_categorical: print('Count zeros: ', nzeros)\n",
    "    if percentage_zeros: print(\"Zero %: \", np.round(nzeros / ntotalnonnan * 100, 2))\n",
    "    if show_mean and not is_categorical and  not describe: print(\"Mean: \", dataframe[column].mean())\n",
    "    if show_median and not is_categorical and not describe: print('Median: ', dataframe[column].median())\n",
    "    if show_mode: print('Mode: ', dataframe[column].mode()[0])\n",
    "    if describe: dataframe[column].describe()\n"
   ],
   "metadata": {
    "collapsed": false,
    "ExecuteTime": {
     "end_time": "2024-02-19T10:03:05.197827300Z",
     "start_time": "2024-02-19T10:03:05.150963Z"
    }
   }
  },
  {
   "cell_type": "code",
   "execution_count": null,
   "outputs": [],
   "source": [
    "plot_distribution(train_appl_prev_depth1, 'actualdpd_943P', histplot=True, kdeplot=True, scatterplot=False, is_categorical=False, countplot=False, pieplot=False, groupby=False, numeric_column_to_compare=False, categorical_column_to_compare=False, title='Distribution of actualdpd_943P', xlabel='actualdpd_943P values', ylabel='Frequency', show_mean=True, show_median=True, show_mode=True, total_num=True, total_nan=True, count_zeros=True, total_non_nan_values=True, percentage_zeros=True, drop_invalid=False, describe=False)"
   ],
   "metadata": {
    "collapsed": false
   }
  },
  {
   "cell_type": "code",
   "execution_count": null,
   "outputs": [],
   "source": [],
   "metadata": {
    "collapsed": false
   }
  }
 ],
 "metadata": {
  "kernelspec": {
   "display_name": "Python 3",
   "language": "python",
   "name": "python3"
  },
  "language_info": {
   "codemirror_mode": {
    "name": "ipython",
    "version": 2
   },
   "file_extension": ".py",
   "mimetype": "text/x-python",
   "name": "python",
   "nbconvert_exporter": "python",
   "pygments_lexer": "ipython2",
   "version": "2.7.6"
  }
 },
 "nbformat": 4,
 "nbformat_minor": 0
}
